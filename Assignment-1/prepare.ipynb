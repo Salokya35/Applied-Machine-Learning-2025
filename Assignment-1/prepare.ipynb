{
  "nbformat": 4,
  "nbformat_minor": 0,
  "metadata": {
    "colab": {
      "provenance": []
    },
    "kernelspec": {
      "name": "python3",
      "display_name": "Python 3"
    },
    "language_info": {
      "name": "python"
    }
  },
  "cells": [
    {
      "cell_type": "code",
      "source": [
        "import pandas as pd\n",
        "import string\n",
        "import nltk\n",
        "from nltk.tokenize import word_tokenize\n",
        "from nltk.corpus import stopwords\n",
        "from nltk.stem import WordNetLemmatizer\n",
        "nltk.download('punkt_tab')\n",
        "nltk.download('stopwords')\n",
        "nltk.download('wordnet')\n",
        "from sklearn.feature_extraction.text import TfidfVectorizer\n",
        "from imblearn.over_sampling import SMOTE\n"
      ],
      "metadata": {
        "colab": {
          "base_uri": "https://localhost:8080/"
        },
        "id": "fEdhdEiCzybx",
        "outputId": "de7c511b-d257-4761-f2dd-9aaf4fe2ea3f"
      },
      "execution_count": null,
      "outputs": [
        {
          "output_type": "stream",
          "name": "stderr",
          "text": [
            "[nltk_data] Downloading package punkt_tab to /root/nltk_data...\n",
            "[nltk_data]   Unzipping tokenizers/punkt_tab.zip.\n",
            "[nltk_data] Downloading package stopwords to /root/nltk_data...\n",
            "[nltk_data]   Unzipping corpora/stopwords.zip.\n",
            "[nltk_data] Downloading package wordnet to /root/nltk_data...\n"
          ]
        }
      ]
    },
    {
      "cell_type": "markdown",
      "source": [
        "#  Load the data from a given file path"
      ],
      "metadata": {
        "id": "pzxfwh_awTTq"
      }
    },
    {
      "cell_type": "code",
      "execution_count": null,
      "metadata": {
        "id": "Y9PEd1Xxs9JS"
      },
      "outputs": [],
      "source": [
        "def load_data(file_path):\n",
        "    # Assuming the data is tab-separated and lacks a header row, typical of the SMSSpamCollection\n",
        "    data = pd.read_csv(file_path, sep='\\t', header=None, names=['label', 'message'])\n",
        "    return data\n"
      ]
    },
    {
      "cell_type": "code",
      "source": [
        "file_path = '/content/SMSSpamCollection'\n",
        "data = pd.read_csv(file_path, sep='\\t', header=None, names=['label', 'message'])\n"
      ],
      "metadata": {
        "id": "QdEkcVjzv61A"
      },
      "execution_count": null,
      "outputs": []
    },
    {
      "cell_type": "code",
      "source": [
        "data.head()"
      ],
      "metadata": {
        "colab": {
          "base_uri": "https://localhost:8080/",
          "height": 206
        },
        "id": "iWwDl0DRwIF6",
        "outputId": "c6fe9c54-84a6-44a9-8516-0330f9ddbd27"
      },
      "execution_count": null,
      "outputs": [
        {
          "output_type": "execute_result",
          "data": {
            "text/plain": [
              "  label                                            message\n",
              "0   ham  Go until jurong point, crazy.. Available only ...\n",
              "1   ham                      Ok lar... Joking wif u oni...\n",
              "2  spam  Free entry in 2 a wkly comp to win FA Cup fina...\n",
              "3   ham  U dun say so early hor... U c already then say...\n",
              "4   ham  Nah I don't think he goes to usf, he lives aro..."
            ],
            "text/html": [
              "\n",
              "  <div id=\"df-a646eef8-bf02-4f15-a18d-55a4a4fdde8d\" class=\"colab-df-container\">\n",
              "    <div>\n",
              "<style scoped>\n",
              "    .dataframe tbody tr th:only-of-type {\n",
              "        vertical-align: middle;\n",
              "    }\n",
              "\n",
              "    .dataframe tbody tr th {\n",
              "        vertical-align: top;\n",
              "    }\n",
              "\n",
              "    .dataframe thead th {\n",
              "        text-align: right;\n",
              "    }\n",
              "</style>\n",
              "<table border=\"1\" class=\"dataframe\">\n",
              "  <thead>\n",
              "    <tr style=\"text-align: right;\">\n",
              "      <th></th>\n",
              "      <th>label</th>\n",
              "      <th>message</th>\n",
              "    </tr>\n",
              "  </thead>\n",
              "  <tbody>\n",
              "    <tr>\n",
              "      <th>0</th>\n",
              "      <td>ham</td>\n",
              "      <td>Go until jurong point, crazy.. Available only ...</td>\n",
              "    </tr>\n",
              "    <tr>\n",
              "      <th>1</th>\n",
              "      <td>ham</td>\n",
              "      <td>Ok lar... Joking wif u oni...</td>\n",
              "    </tr>\n",
              "    <tr>\n",
              "      <th>2</th>\n",
              "      <td>spam</td>\n",
              "      <td>Free entry in 2 a wkly comp to win FA Cup fina...</td>\n",
              "    </tr>\n",
              "    <tr>\n",
              "      <th>3</th>\n",
              "      <td>ham</td>\n",
              "      <td>U dun say so early hor... U c already then say...</td>\n",
              "    </tr>\n",
              "    <tr>\n",
              "      <th>4</th>\n",
              "      <td>ham</td>\n",
              "      <td>Nah I don't think he goes to usf, he lives aro...</td>\n",
              "    </tr>\n",
              "  </tbody>\n",
              "</table>\n",
              "</div>\n",
              "    <div class=\"colab-df-buttons\">\n",
              "\n",
              "  <div class=\"colab-df-container\">\n",
              "    <button class=\"colab-df-convert\" onclick=\"convertToInteractive('df-a646eef8-bf02-4f15-a18d-55a4a4fdde8d')\"\n",
              "            title=\"Convert this dataframe to an interactive table.\"\n",
              "            style=\"display:none;\">\n",
              "\n",
              "  <svg xmlns=\"http://www.w3.org/2000/svg\" height=\"24px\" viewBox=\"0 -960 960 960\">\n",
              "    <path d=\"M120-120v-720h720v720H120Zm60-500h600v-160H180v160Zm220 220h160v-160H400v160Zm0 220h160v-160H400v160ZM180-400h160v-160H180v160Zm440 0h160v-160H620v160ZM180-180h160v-160H180v160Zm440 0h160v-160H620v160Z\"/>\n",
              "  </svg>\n",
              "    </button>\n",
              "\n",
              "  <style>\n",
              "    .colab-df-container {\n",
              "      display:flex;\n",
              "      gap: 12px;\n",
              "    }\n",
              "\n",
              "    .colab-df-convert {\n",
              "      background-color: #E8F0FE;\n",
              "      border: none;\n",
              "      border-radius: 50%;\n",
              "      cursor: pointer;\n",
              "      display: none;\n",
              "      fill: #1967D2;\n",
              "      height: 32px;\n",
              "      padding: 0 0 0 0;\n",
              "      width: 32px;\n",
              "    }\n",
              "\n",
              "    .colab-df-convert:hover {\n",
              "      background-color: #E2EBFA;\n",
              "      box-shadow: 0px 1px 2px rgba(60, 64, 67, 0.3), 0px 1px 3px 1px rgba(60, 64, 67, 0.15);\n",
              "      fill: #174EA6;\n",
              "    }\n",
              "\n",
              "    .colab-df-buttons div {\n",
              "      margin-bottom: 4px;\n",
              "    }\n",
              "\n",
              "    [theme=dark] .colab-df-convert {\n",
              "      background-color: #3B4455;\n",
              "      fill: #D2E3FC;\n",
              "    }\n",
              "\n",
              "    [theme=dark] .colab-df-convert:hover {\n",
              "      background-color: #434B5C;\n",
              "      box-shadow: 0px 1px 3px 1px rgba(0, 0, 0, 0.15);\n",
              "      filter: drop-shadow(0px 1px 2px rgba(0, 0, 0, 0.3));\n",
              "      fill: #FFFFFF;\n",
              "    }\n",
              "  </style>\n",
              "\n",
              "    <script>\n",
              "      const buttonEl =\n",
              "        document.querySelector('#df-a646eef8-bf02-4f15-a18d-55a4a4fdde8d button.colab-df-convert');\n",
              "      buttonEl.style.display =\n",
              "        google.colab.kernel.accessAllowed ? 'block' : 'none';\n",
              "\n",
              "      async function convertToInteractive(key) {\n",
              "        const element = document.querySelector('#df-a646eef8-bf02-4f15-a18d-55a4a4fdde8d');\n",
              "        const dataTable =\n",
              "          await google.colab.kernel.invokeFunction('convertToInteractive',\n",
              "                                                    [key], {});\n",
              "        if (!dataTable) return;\n",
              "\n",
              "        const docLinkHtml = 'Like what you see? Visit the ' +\n",
              "          '<a target=\"_blank\" href=https://colab.research.google.com/notebooks/data_table.ipynb>data table notebook</a>'\n",
              "          + ' to learn more about interactive tables.';\n",
              "        element.innerHTML = '';\n",
              "        dataTable['output_type'] = 'display_data';\n",
              "        await google.colab.output.renderOutput(dataTable, element);\n",
              "        const docLink = document.createElement('div');\n",
              "        docLink.innerHTML = docLinkHtml;\n",
              "        element.appendChild(docLink);\n",
              "      }\n",
              "    </script>\n",
              "  </div>\n",
              "\n",
              "\n",
              "<div id=\"df-b489a9cd-828e-43fb-bece-308995ec08ab\">\n",
              "  <button class=\"colab-df-quickchart\" onclick=\"quickchart('df-b489a9cd-828e-43fb-bece-308995ec08ab')\"\n",
              "            title=\"Suggest charts\"\n",
              "            style=\"display:none;\">\n",
              "\n",
              "<svg xmlns=\"http://www.w3.org/2000/svg\" height=\"24px\"viewBox=\"0 0 24 24\"\n",
              "     width=\"24px\">\n",
              "    <g>\n",
              "        <path d=\"M19 3H5c-1.1 0-2 .9-2 2v14c0 1.1.9 2 2 2h14c1.1 0 2-.9 2-2V5c0-1.1-.9-2-2-2zM9 17H7v-7h2v7zm4 0h-2V7h2v10zm4 0h-2v-4h2v4z\"/>\n",
              "    </g>\n",
              "</svg>\n",
              "  </button>\n",
              "\n",
              "<style>\n",
              "  .colab-df-quickchart {\n",
              "      --bg-color: #E8F0FE;\n",
              "      --fill-color: #1967D2;\n",
              "      --hover-bg-color: #E2EBFA;\n",
              "      --hover-fill-color: #174EA6;\n",
              "      --disabled-fill-color: #AAA;\n",
              "      --disabled-bg-color: #DDD;\n",
              "  }\n",
              "\n",
              "  [theme=dark] .colab-df-quickchart {\n",
              "      --bg-color: #3B4455;\n",
              "      --fill-color: #D2E3FC;\n",
              "      --hover-bg-color: #434B5C;\n",
              "      --hover-fill-color: #FFFFFF;\n",
              "      --disabled-bg-color: #3B4455;\n",
              "      --disabled-fill-color: #666;\n",
              "  }\n",
              "\n",
              "  .colab-df-quickchart {\n",
              "    background-color: var(--bg-color);\n",
              "    border: none;\n",
              "    border-radius: 50%;\n",
              "    cursor: pointer;\n",
              "    display: none;\n",
              "    fill: var(--fill-color);\n",
              "    height: 32px;\n",
              "    padding: 0;\n",
              "    width: 32px;\n",
              "  }\n",
              "\n",
              "  .colab-df-quickchart:hover {\n",
              "    background-color: var(--hover-bg-color);\n",
              "    box-shadow: 0 1px 2px rgba(60, 64, 67, 0.3), 0 1px 3px 1px rgba(60, 64, 67, 0.15);\n",
              "    fill: var(--button-hover-fill-color);\n",
              "  }\n",
              "\n",
              "  .colab-df-quickchart-complete:disabled,\n",
              "  .colab-df-quickchart-complete:disabled:hover {\n",
              "    background-color: var(--disabled-bg-color);\n",
              "    fill: var(--disabled-fill-color);\n",
              "    box-shadow: none;\n",
              "  }\n",
              "\n",
              "  .colab-df-spinner {\n",
              "    border: 2px solid var(--fill-color);\n",
              "    border-color: transparent;\n",
              "    border-bottom-color: var(--fill-color);\n",
              "    animation:\n",
              "      spin 1s steps(1) infinite;\n",
              "  }\n",
              "\n",
              "  @keyframes spin {\n",
              "    0% {\n",
              "      border-color: transparent;\n",
              "      border-bottom-color: var(--fill-color);\n",
              "      border-left-color: var(--fill-color);\n",
              "    }\n",
              "    20% {\n",
              "      border-color: transparent;\n",
              "      border-left-color: var(--fill-color);\n",
              "      border-top-color: var(--fill-color);\n",
              "    }\n",
              "    30% {\n",
              "      border-color: transparent;\n",
              "      border-left-color: var(--fill-color);\n",
              "      border-top-color: var(--fill-color);\n",
              "      border-right-color: var(--fill-color);\n",
              "    }\n",
              "    40% {\n",
              "      border-color: transparent;\n",
              "      border-right-color: var(--fill-color);\n",
              "      border-top-color: var(--fill-color);\n",
              "    }\n",
              "    60% {\n",
              "      border-color: transparent;\n",
              "      border-right-color: var(--fill-color);\n",
              "    }\n",
              "    80% {\n",
              "      border-color: transparent;\n",
              "      border-right-color: var(--fill-color);\n",
              "      border-bottom-color: var(--fill-color);\n",
              "    }\n",
              "    90% {\n",
              "      border-color: transparent;\n",
              "      border-bottom-color: var(--fill-color);\n",
              "    }\n",
              "  }\n",
              "</style>\n",
              "\n",
              "  <script>\n",
              "    async function quickchart(key) {\n",
              "      const quickchartButtonEl =\n",
              "        document.querySelector('#' + key + ' button');\n",
              "      quickchartButtonEl.disabled = true;  // To prevent multiple clicks.\n",
              "      quickchartButtonEl.classList.add('colab-df-spinner');\n",
              "      try {\n",
              "        const charts = await google.colab.kernel.invokeFunction(\n",
              "            'suggestCharts', [key], {});\n",
              "      } catch (error) {\n",
              "        console.error('Error during call to suggestCharts:', error);\n",
              "      }\n",
              "      quickchartButtonEl.classList.remove('colab-df-spinner');\n",
              "      quickchartButtonEl.classList.add('colab-df-quickchart-complete');\n",
              "    }\n",
              "    (() => {\n",
              "      let quickchartButtonEl =\n",
              "        document.querySelector('#df-b489a9cd-828e-43fb-bece-308995ec08ab button');\n",
              "      quickchartButtonEl.style.display =\n",
              "        google.colab.kernel.accessAllowed ? 'block' : 'none';\n",
              "    })();\n",
              "  </script>\n",
              "</div>\n",
              "\n",
              "    </div>\n",
              "  </div>\n"
            ],
            "application/vnd.google.colaboratory.intrinsic+json": {
              "type": "dataframe",
              "variable_name": "data",
              "summary": "{\n  \"name\": \"data\",\n  \"rows\": 5572,\n  \"fields\": [\n    {\n      \"column\": \"label\",\n      \"properties\": {\n        \"dtype\": \"category\",\n        \"num_unique_values\": 2,\n        \"samples\": [\n          \"spam\",\n          \"ham\"\n        ],\n        \"semantic_type\": \"\",\n        \"description\": \"\"\n      }\n    },\n    {\n      \"column\": \"message\",\n      \"properties\": {\n        \"dtype\": \"string\",\n        \"num_unique_values\": 5169,\n        \"samples\": [\n          \"K, makes sense, btw carlos is being difficult so you guys are gonna smoke while I go pick up the second batch and get gas\",\n          \"URGENT! Your mobile No *********** WON a \\u00a32,000 Bonus Caller Prize on 02/06/03! This is the 2nd attempt to reach YOU! Call 09066362220 ASAP! BOX97N7QP, 150ppm\"\n        ],\n        \"semantic_type\": \"\",\n        \"description\": \"\"\n      }\n    }\n  ]\n}"
            }
          },
          "metadata": {},
          "execution_count": 4
        }
      ]
    },
    {
      "cell_type": "markdown",
      "source": [
        "# Preprocess the data"
      ],
      "metadata": {
        "id": "jiLslOzWwbmL"
      }
    },
    {
      "cell_type": "code",
      "source": [
        "missing_values = data.isnull().sum()\n",
        "print(missing_values)"
      ],
      "metadata": {
        "colab": {
          "base_uri": "https://localhost:8080/"
        },
        "id": "OD5kPfWYxxu_",
        "outputId": "787edd72-b4d9-4075-aedc-c836b3dc187c"
      },
      "execution_count": null,
      "outputs": [
        {
          "output_type": "stream",
          "name": "stdout",
          "text": [
            "label      0\n",
            "message    0\n",
            "dtype: int64\n"
          ]
        }
      ]
    },
    {
      "cell_type": "code",
      "source": [
        "def preprocess_data(data):\n",
        "    # Check initial data state\n",
        "    print(\"Initial data check: \\n\", data.head())\n",
        "\n",
        "    # Convert labels to binary format\n",
        "    data['label'] = data['label'].map({'ham': 0, 'spam': 1})\n",
        "\n",
        "    # Ensure all message data is string type\n",
        "    data['message'] = data['message'].astype(str)\n",
        "    print(\"After conversion to string:\\n\", data.head())\n",
        "\n",
        "    # Convert to lowercase\n",
        "    data['message'] = data['message'].str.lower()\n",
        "\n",
        "    # Removing punctuation & special characters\n",
        "    data['message'] = data['message'].str.replace(f'[{string.punctuation}]', '', regex=True)\n",
        "    print(\"After converting to lower case & punctuation removal \\n\", data.head())\n",
        "\n",
        "    # Tokenization\n",
        "    data['message'] = data['message'].apply(word_tokenize)\n",
        "    print(\"After tokenization \\n\", data.head())\n",
        "\n",
        "    # Removing Stop-words\n",
        "    stop_words = set(stopwords.words('english'))\n",
        "    data['message'] = data['message'].apply(lambda x: [word for word in x if word not in stop_words])\n",
        "    print(\"After removing stop words \\n\", data.head())\n",
        "\n",
        "    # Stemming/Lemmatization\n",
        "    lemmatizer = WordNetLemmatizer()\n",
        "    data['message'] = data['message'].apply(lambda x: [lemmatizer.lemmatize(word) for word in x])\n",
        "    print(\"After lemmatization \\n\", data.head())\n",
        "\n",
        "    # Join tokens back to string format\n",
        "    data['message'] = data['message'].apply(lambda x: ' '.join(x))\n",
        "    print(\"After joining tokens \\n\", data.head())\n",
        "\n",
        "    print(\"Final processed data: \\n\", data.head())\n",
        "    return data\n"
      ],
      "metadata": {
        "id": "1WzqSHBIlXY7"
      },
      "execution_count": null,
      "outputs": []
    },
    {
      "cell_type": "code",
      "source": [
        "processed_data = preprocess_data(data)"
      ],
      "metadata": {
        "colab": {
          "base_uri": "https://localhost:8080/"
        },
        "id": "xaPwsuT0xEGS",
        "outputId": "8d8e5ae6-77d7-41f8-8df4-e1c018e1fa36"
      },
      "execution_count": null,
      "outputs": [
        {
          "output_type": "stream",
          "name": "stdout",
          "text": [
            "Initial data check: \n",
            "   label                                            message\n",
            "0   ham  Go until jurong point, crazy.. Available only ...\n",
            "1   ham                      Ok lar... Joking wif u oni...\n",
            "2  spam  Free entry in 2 a wkly comp to win FA Cup fina...\n",
            "3   ham  U dun say so early hor... U c already then say...\n",
            "4   ham  Nah I don't think he goes to usf, he lives aro...\n",
            "After conversion to string:\n",
            "    label                                            message\n",
            "0      0  Go until jurong point, crazy.. Available only ...\n",
            "1      0                      Ok lar... Joking wif u oni...\n",
            "2      1  Free entry in 2 a wkly comp to win FA Cup fina...\n",
            "3      0  U dun say so early hor... U c already then say...\n",
            "4      0  Nah I don't think he goes to usf, he lives aro...\n",
            "After converting to lower case & punctuation removal \n",
            "    label                                            message\n",
            "0      0  go until jurong point crazy available only in ...\n",
            "1      0                            ok lar joking wif u oni\n",
            "2      1  free entry in 2 a wkly comp to win fa cup fina...\n",
            "3      0        u dun say so early hor u c already then say\n",
            "4      0  nah i dont think he goes to usf he lives aroun...\n",
            "After tokenization \n",
            "    label                                            message\n",
            "0      0  [go, until, jurong, point, crazy, available, o...\n",
            "1      0                     [ok, lar, joking, wif, u, oni]\n",
            "2      1  [free, entry, in, 2, a, wkly, comp, to, win, f...\n",
            "3      0  [u, dun, say, so, early, hor, u, c, already, t...\n",
            "4      0  [nah, i, dont, think, he, goes, to, usf, he, l...\n",
            "After removing stop words \n",
            "    label                                            message\n",
            "0      0  [go, jurong, point, crazy, available, bugis, n...\n",
            "1      0                     [ok, lar, joking, wif, u, oni]\n",
            "2      1  [free, entry, 2, wkly, comp, win, fa, cup, fin...\n",
            "3      0      [u, dun, say, early, hor, u, c, already, say]\n",
            "4      0  [nah, dont, think, goes, usf, lives, around, t...\n",
            "After lemmatization \n",
            "    label                                            message\n",
            "0      0  [go, jurong, point, crazy, available, bugis, n...\n",
            "1      0                     [ok, lar, joking, wif, u, oni]\n",
            "2      1  [free, entry, 2, wkly, comp, win, fa, cup, fin...\n",
            "3      0      [u, dun, say, early, hor, u, c, already, say]\n",
            "4      0  [nah, dont, think, go, usf, life, around, though]\n",
            "After joining tokens \n",
            "    label                                            message\n",
            "0      0  go jurong point crazy available bugis n great ...\n",
            "1      0                            ok lar joking wif u oni\n",
            "2      1  free entry 2 wkly comp win fa cup final tkts 2...\n",
            "3      0                u dun say early hor u c already say\n",
            "4      0           nah dont think go usf life around though\n",
            "Final processed data: \n",
            "    label                                            message\n",
            "0      0  go jurong point crazy available bugis n great ...\n",
            "1      0                            ok lar joking wif u oni\n",
            "2      1  free entry 2 wkly comp win fa cup final tkts 2...\n",
            "3      0                u dun say early hor u c already say\n",
            "4      0           nah dont think go usf life around though\n"
          ]
        }
      ]
    },
    {
      "cell_type": "markdown",
      "source": [
        "# Split the data into train/validation/test"
      ],
      "metadata": {
        "id": "ZxxFBHo6w05C"
      }
    },
    {
      "cell_type": "code",
      "source": [
        "from sklearn.model_selection import train_test_split\n",
        "\n",
        "def split_data(processed_data):\n",
        "    # Split the data into train and test data\n",
        "    X_train, X_test, y_train, y_test = train_test_split(processed_data['message'], processed_data['label'], test_size=0.2, random_state=47)\n",
        "\n",
        "    # Split train into train and validation data\n",
        "    X_train, X_val, y_train, y_val = train_test_split(X_train, y_train, test_size=0.25, random_state=47) # validation size = 0.25 x 0.8 = 0.2\n",
        "\n",
        "    # Create DataFrames from splits\n",
        "    train_df = pd.DataFrame({'message': X_train, 'label': y_train})\n",
        "    val_df = pd.DataFrame({'message': X_val, 'label': y_val})\n",
        "    test_df = pd.DataFrame({'message': X_test, 'label': y_test})\n",
        "\n",
        "    return train_df, val_df, test_df"
      ],
      "metadata": {
        "id": "Wd8QCDpww2Sz"
      },
      "execution_count": null,
      "outputs": []
    },
    {
      "cell_type": "code",
      "source": [
        "train_df, val_df, test_df = split_data(processed_data)"
      ],
      "metadata": {
        "id": "ZxrRuq8YtSDw"
      },
      "execution_count": null,
      "outputs": []
    },
    {
      "cell_type": "markdown",
      "source": [
        "# Store the splits at train.csv/validation.csv/test.csv"
      ],
      "metadata": {
        "id": "sHaQSfK34bTd"
      }
    },
    {
      "cell_type": "code",
      "source": [
        "def save_splits(train, validation, test, directory='./'):\n",
        "    train.to_csv(f'{directory}train.csv', index=False)\n",
        "    validation.to_csv(f'{directory}validation.csv', index=False)\n",
        "    test.to_csv(f'{directory}test.csv', index=False)\n"
      ],
      "metadata": {
        "id": "EudghlkZ4aDt"
      },
      "execution_count": null,
      "outputs": []
    },
    {
      "cell_type": "code",
      "source": [
        "save_splits(train_df, val_df, test_df)"
      ],
      "metadata": {
        "id": "LpTB7hpmtCT9"
      },
      "execution_count": null,
      "outputs": []
    }
  ]
}