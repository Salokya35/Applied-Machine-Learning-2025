{
 "cells": [
  {
   "cell_type": "code",
   "execution_count": 28,
   "metadata": {},
   "outputs": [
    {
     "name": "stdout",
     "output_type": "stream",
     "text": [
      "      0                                                  1\n",
      "0   ham  Go until jurong point, crazy.. Available only ...\n",
      "1   ham                      Ok lar... Joking wif u oni...\n",
      "2  spam  Free entry in 2 a wkly comp to win FA Cup fina...\n",
      "3   ham  U dun say so early hor... U c already then say...\n",
      "4   ham  Nah I don't think he goes to usf, he lives aro...\n"
     ]
    }
   ],
   "source": [
    "import pandas as pd\n",
    "\n",
    "# Load the raw dataset without headers\n",
    "\n",
    "raw_data = pd.read_csv('SMSSpamCollection', header=None, delimiter='\\t')  # Assuming tab-separated data\n",
    "\n",
    "# Check the first few rows to understand the structure\n",
    "print(raw_data.head())\n"
   ]
  },
  {
   "cell_type": "code",
   "execution_count": 29,
   "metadata": {},
   "outputs": [
    {
     "name": "stdout",
     "output_type": "stream",
     "text": [
      "  label                                            message\n",
      "0   ham  Go until jurong point, crazy.. Available only ...\n",
      "1   ham                      Ok lar... Joking wif u oni...\n",
      "2  spam  Free entry in 2 a wkly comp to win FA Cup fina...\n",
      "3   ham  U dun say so early hor... U c already then say...\n",
      "4   ham  Nah I don't think he goes to usf, he lives aro...\n"
     ]
    }
   ],
   "source": [
    "# Assigning appropriate column names to the dataset\n",
    "raw_data.columns = ['label', 'message']\n",
    "\n",
    "# Verify the changes\n",
    "print(raw_data.head())\n"
   ]
  },
  {
   "cell_type": "code",
   "execution_count": 30,
   "metadata": {},
   "outputs": [
    {
     "name": "stdout",
     "output_type": "stream",
     "text": [
      "Train Data Shape: (4457, 2)\n",
      "Validation Data Shape: (836, 2)\n",
      "Test Data Shape: (279, 2)\n"
     ]
    }
   ],
   "source": [
    "from sklearn.model_selection import train_test_split\n",
    "\n",
    "# Split the data into train, validation, and test sets\n",
    "def split_data(data, test_size=0.2, validation_size=0.2, random_state=42):\n",
    "    # Split into train and temporary (temp) data\n",
    "    train_data, temp_data = train_test_split(data, test_size=test_size, random_state=random_state)\n",
    "    \n",
    "    # Split temp data into validation and test\n",
    "    validation_data, test_data = train_test_split(temp_data, test_size=validation_size / (1 - test_size), random_state=random_state)\n",
    "    \n",
    "    return train_data, validation_data, test_data\n",
    "\n",
    "# Perform the split\n",
    "train_data, validation_data, test_data = split_data(raw_data)\n",
    "\n",
    "# Verify the shapes of the splits\n",
    "print(f\"Train Data Shape: {train_data.shape}\")\n",
    "print(f\"Validation Data Shape: {validation_data.shape}\")\n",
    "print(f\"Test Data Shape: {test_data.shape}\")\n"
   ]
  },
  {
   "cell_type": "code",
   "execution_count": 31,
   "metadata": {},
   "outputs": [
    {
     "name": "stdout",
     "output_type": "stream",
     "text": [
      "Data splits saved as CSV files.\n"
     ]
    }
   ],
   "source": [
    "# Save the splits as CSV files\n",
    "train_data.to_csv('train.csv', index=False)\n",
    "validation_data.to_csv('validation.csv', index=False)\n",
    "test_data.to_csv('test.csv', index=False)\n",
    "\n",
    "print(\"Data splits saved as CSV files.\")\n"
   ]
  },
  {
   "cell_type": "code",
   "execution_count": 32,
   "metadata": {},
   "outputs": [
    {
     "name": "stdout",
     "output_type": "stream",
     "text": [
      "Train Target Distribution:\n",
      "label\n",
      "ham     3859\n",
      "spam     598\n",
      "Name: count, dtype: int64\n",
      "\n",
      "Validation Target Distribution:\n",
      "label\n",
      "ham     723\n",
      "spam    113\n",
      "Name: count, dtype: int64\n",
      "\n",
      "Test Target Distribution:\n",
      "label\n",
      "ham     243\n",
      "spam     36\n",
      "Name: count, dtype: int64\n"
     ]
    }
   ],
   "source": [
    "# Check distribution of the target variable in each dataset\n",
    "print(\"Train Target Distribution:\")\n",
    "print(train_data['label'].value_counts())\n",
    "\n",
    "print(\"\\nValidation Target Distribution:\")\n",
    "print(validation_data['label'].value_counts())\n",
    "\n",
    "print(\"\\nTest Target Distribution:\")\n",
    "print(test_data['label'].value_counts())\n"
   ]
  },
  {
   "cell_type": "code",
   "execution_count": 33,
   "metadata": {},
   "outputs": [
    {
     "name": "stdout",
     "output_type": "stream",
     "text": [
      "Updated Train Data Shape: (4457, 2)\n",
      "Updated Validation Data Shape: (836, 2)\n",
      "Updated Test Data Shape: (279, 2)\n"
     ]
    }
   ],
   "source": [
    "# Re-split the data with a different random seed\n",
    "train_data, validation_data, test_data = split_data(raw_data, random_state=123)  # Using a different random seed\n",
    "\n",
    "# Save the updated splits\n",
    "train_data.to_csv('train_updated.csv', index=False)\n",
    "validation_data.to_csv('validation_updated.csv', index=False)\n",
    "test_data.to_csv('test_updated.csv', index=False)\n",
    "\n",
    "# Verify the updated splits\n",
    "print(f\"Updated Train Data Shape: {train_data.shape}\")\n",
    "print(f\"Updated Validation Data Shape: {validation_data.shape}\")\n",
    "print(f\"Updated Test Data Shape: {test_data.shape}\")\n"
   ]
  },
  {
   "cell_type": "code",
   "execution_count": 34,
   "metadata": {},
   "outputs": [
    {
     "name": "stdout",
     "output_type": "stream",
     "text": [
      "Train Target Distribution (Original):\n",
      "label\n",
      "ham     3859\n",
      "spam     598\n",
      "Name: count, dtype: int64\n",
      "\n",
      "Validation Target Distribution (Original):\n",
      "label\n",
      "ham     723\n",
      "spam    113\n",
      "Name: count, dtype: int64\n",
      "\n",
      "Test Target Distribution (Original):\n",
      "label\n",
      "ham     243\n",
      "spam     36\n",
      "Name: count, dtype: int64\n"
     ]
    }
   ],
   "source": [
    "# Load the original (first) versions\n",
    "train_data = pd.read_csv('train.csv')\n",
    "validation_data = pd.read_csv('validation.csv')\n",
    "test_data = pd.read_csv('test.csv')\n",
    "\n",
    "# Print the distribution of the target variable\n",
    "print(\"Train Target Distribution (Original):\")\n",
    "print(train_data['label'].value_counts())\n",
    "print(\"\\nValidation Target Distribution (Original):\")\n",
    "print(validation_data['label'].value_counts())\n",
    "print(\"\\nTest Target Distribution (Original):\")\n",
    "print(test_data['label'].value_counts())\n"
   ]
  },
  {
   "cell_type": "code",
   "execution_count": 35,
   "metadata": {},
   "outputs": [
    {
     "name": "stdout",
     "output_type": "stream",
     "text": [
      "Train Target Distribution (Updated):\n",
      "label\n",
      "ham     3863\n",
      "spam     594\n",
      "Name: count, dtype: int64\n",
      "\n",
      "Validation Target Distribution (Updated):\n",
      "label\n",
      "ham     719\n",
      "spam    117\n",
      "Name: count, dtype: int64\n",
      "\n",
      "Test Target Distribution (Updated):\n",
      "label\n",
      "ham     243\n",
      "spam     36\n",
      "Name: count, dtype: int64\n"
     ]
    }
   ],
   "source": [
    "# Load the updated (new) versions\n",
    "train_data_updated = pd.read_csv('train_updated.csv')\n",
    "validation_data_updated = pd.read_csv('validation_updated.csv')\n",
    "test_data_updated = pd.read_csv('test_updated.csv')\n",
    "\n",
    "# Print the distribution of the target variable\n",
    "print(\"Train Target Distribution (Updated):\")\n",
    "print(train_data_updated['label'].value_counts())\n",
    "print(\"\\nValidation Target Distribution (Updated):\")\n",
    "print(validation_data_updated['label'].value_counts())\n",
    "print(\"\\nTest Target Distribution (Updated):\")\n",
    "print(test_data_updated['label'].value_counts())\n"
   ]
  }
 ],
 "metadata": {
  "kernelspec": {
   "display_name": "base",
   "language": "python",
   "name": "python3"
  },
  "language_info": {
   "codemirror_mode": {
    "name": "ipython",
    "version": 3
   },
   "file_extension": ".py",
   "mimetype": "text/x-python",
   "name": "python",
   "nbconvert_exporter": "python",
   "pygments_lexer": "ipython3",
   "version": "3.12.7"
  }
 },
 "nbformat": 4,
 "nbformat_minor": 2
}
