{
 "cells": [
  {
   "cell_type": "code",
   "execution_count": 1,
   "metadata": {},
   "outputs": [],
   "source": [
    "import mlflow\n",
    "import mlflow.sklearn"
   ]
  },
  {
   "cell_type": "code",
   "execution_count": 2,
   "metadata": {},
   "outputs": [
    {
     "name": "stderr",
     "output_type": "stream",
     "text": [
      "2025/02/22 18:32:08 INFO mlflow.tracking.fluent: Experiment with name 'Spam_Classifier_Experiment' does not exist. Creating a new experiment.\n"
     ]
    },
    {
     "data": {
      "text/plain": [
       "<Experiment: artifact_location='file:///c:/Users/INDRA/Desktop/CMI%20MSC%20DATA%20SCIENCE/Applied%20Machine%20Learning/Assignment2/training/mlruns/814268139140093092', creation_time=1740229328930, experiment_id='814268139140093092', last_update_time=1740229328930, lifecycle_stage='active', name='Spam_Classifier_Experiment', tags={}>"
      ]
     },
     "execution_count": 2,
     "metadata": {},
     "output_type": "execute_result"
    }
   ],
   "source": [
    "# Set the experiment name (this will group all runs under this experiment)\n",
    "mlflow.set_experiment(\"Spam_Classifier_Experiment\")"
   ]
  },
  {
   "cell_type": "code",
   "execution_count": 3,
   "metadata": {},
   "outputs": [
    {
     "name": "stdout",
     "output_type": "stream",
     "text": [
      "MLflow Experiment Tracking Initialized.\n"
     ]
    }
   ],
   "source": [
    "# Start a new MLflow run\n",
    "with mlflow.start_run():\n",
    "    print(\"MLflow Experiment Tracking Initialized.\")"
   ]
  },
  {
   "cell_type": "code",
   "execution_count": 8,
   "metadata": {},
   "outputs": [
    {
     "name": "stderr",
     "output_type": "stream",
     "text": [
      "2025/02/22 18:47:32 WARNING mlflow.models.model: Model logged without a signature and input example. Please set `input_example` parameter when logging the model to auto infer the model signature.\n"
     ]
    },
    {
     "name": "stdout",
     "output_type": "stream",
     "text": [
      "Logged Logistic Regression model with AUC: 0.9894882376644851 and AUCPR: 0.978793780097303\n"
     ]
    }
   ],
   "source": [
    "from sklearn.feature_extraction.text import TfidfVectorizer\n",
    "from sklearn.linear_model import LogisticRegression\n",
    "from sklearn.metrics import roc_auc_score, average_precision_score\n",
    "from sklearn.model_selection import train_test_split\n",
    "import pandas as pd\n",
    "# Load your training data (update with actual data path)\n",
    "train_data = pd.read_csv('SMSSpamCollection', header=None, delimiter='\\t')# Replace with your actual train data path\n",
    "train_data.columns = ['label', 'message']\n",
    "train_data['label'] = train_data['label'].map({'spam': 1, 'ham': 0})\n",
    "X_train = train_data['message']  # Features (make sure to adjust this based on your data)\n",
    "y_train = train_data['label']  # Target (adjust based on your dataset)\n",
    "\n",
    "# Split the data into training and validation sets\n",
    "X_train, X_valid, y_train, y_valid = train_test_split(X_train, y_train, test_size=0.2, random_state=42)\n",
    "\n",
    "# Initialize the TfidfVectorizer to convert text data into numerical format\n",
    "vectorizer = TfidfVectorizer(stop_words='english', max_features=5000)\n",
    "\n",
    "# Fit and transform the training data, and transform the validation data\n",
    "X_train_tfidf = vectorizer.fit_transform(X_train)\n",
    "X_valid_tfidf = vectorizer.transform(X_valid)\n",
    "\n",
    "# Initialize the Logistic Regression model\n",
    "model = LogisticRegression()\n",
    "\n",
    "# Start an MLflow run to track this model\n",
    "with mlflow.start_run():\n",
    "    # Train the model\n",
    "    model.fit(X_train_tfidf, y_train)\n",
    "\n",
    "    # Predict the probabilities for the validation set\n",
    "    y_pred_proba = model.predict_proba(X_valid_tfidf)[:, 1]\n",
    "\n",
    "    # Compute evaluation metrics\n",
    "    aucpr = average_precision_score(y_valid, y_pred_proba)\n",
    "    auc = roc_auc_score(y_valid, y_pred_proba)\n",
    "\n",
    "    # Log parameters, metrics, and the model\n",
    "    mlflow.log_param(\"model\", \"Logistic Regression\")\n",
    "    mlflow.log_metric(\"AUC\", auc)\n",
    "    mlflow.log_metric(\"AUCPR\", aucpr)\n",
    "    \n",
    "    # Log the trained model\n",
    "    mlflow.sklearn.log_model(model, \"logistic_regression_model\")\n",
    "\n",
    "    print(f\"Logged Logistic Regression model with AUC: {auc} and AUCPR: {aucpr}\")\n"
   ]
  },
  {
   "cell_type": "code",
   "execution_count": 9,
   "metadata": {},
   "outputs": [
    {
     "name": "stderr",
     "output_type": "stream",
     "text": [
      "2025/02/22 18:50:45 WARNING mlflow.models.model: Model logged without a signature and input example. Please set `input_example` parameter when logging the model to auto infer the model signature.\n"
     ]
    },
    {
     "name": "stdout",
     "output_type": "stream",
     "text": [
      "Logged Logistic Regression model with AUC: 0.9894882376644851 and AUCPR: 0.978793780097303\n"
     ]
    }
   ],
   "source": [
    "from sklearn.linear_model import LogisticRegression\n",
    "from sklearn.metrics import roc_auc_score, average_precision_score\n",
    "from sklearn.model_selection import train_test_split\n",
    "from sklearn.feature_extraction.text import TfidfVectorizer\n",
    "\n",
    "# Load your training data (adjust the path to your data)\n",
    "train_data = pd.read_csv('SMSSpamCollection', header=None, delimiter='\\t')# Replace with your actual train data path\n",
    "train_data.columns = ['label', 'message']\n",
    "train_data['label'] = train_data['label'].map({'spam': 1, 'ham': 0})\n",
    "# Features (X) and Target (y)\n",
    "X_train = train_data['message']  # Messages are the features\n",
    "y_train = train_data['label']  # Labels (0 for ham, 1 for spam)\n",
    "\n",
    "# Split the data into training and validation sets\n",
    "X_train, X_valid, y_train, y_valid = train_test_split(X_train, y_train, test_size=0.2, random_state=42)\n",
    "\n",
    "# Initialize the TfidfVectorizer to convert text data into numerical format\n",
    "vectorizer = TfidfVectorizer(stop_words='english', max_features=5000)\n",
    "\n",
    "# Fit and transform the training data, and transform the validation data\n",
    "X_train_tfidf = vectorizer.fit_transform(X_train)\n",
    "X_valid_tfidf = vectorizer.transform(X_valid)\n",
    "\n",
    "# Initialize the Logistic Regression model\n",
    "model = LogisticRegression()\n",
    "\n",
    "# Start an MLflow run to track this model\n",
    "with mlflow.start_run():\n",
    "    # Train the model\n",
    "    model.fit(X_train_tfidf, y_train)\n",
    "\n",
    "    # Predict the probabilities for the validation set\n",
    "    y_pred_proba = model.predict_proba(X_valid_tfidf)[:, 1]\n",
    "\n",
    "    # Compute evaluation metrics\n",
    "    aucpr = average_precision_score(y_valid, y_pred_proba)\n",
    "    auc = roc_auc_score(y_valid, y_pred_proba)\n",
    "\n",
    "    # Log parameters, metrics, and the model\n",
    "    mlflow.log_param(\"model\", \"Logistic Regression\")\n",
    "    mlflow.log_metric(\"AUC\", auc)\n",
    "    mlflow.log_metric(\"AUCPR\", aucpr)\n",
    "    \n",
    "    # Log the trained model\n",
    "    mlflow.sklearn.log_model(model, \"logistic_regression_model\")\n",
    "\n",
    "    print(f\"Logged Logistic Regression model with AUC: {auc} and AUCPR: {aucpr}\")\n"
   ]
  },
  {
   "cell_type": "code",
   "execution_count": 10,
   "metadata": {},
   "outputs": [
    {
     "name": "stderr",
     "output_type": "stream",
     "text": [
      "2025/02/22 19:22:48 WARNING mlflow.models.model: Model logged without a signature and input example. Please set `input_example` parameter when logging the model to auto infer the model signature.\n"
     ]
    },
    {
     "name": "stdout",
     "output_type": "stream",
     "text": [
      "Logged Random Forest model with AUC: 0.993246904831381 and AUCPR: 0.9828544658720992\n"
     ]
    }
   ],
   "source": [
    "from sklearn.ensemble import RandomForestClassifier\n",
    "from sklearn.metrics import roc_auc_score, average_precision_score\n",
    "from sklearn.model_selection import train_test_split\n",
    "from sklearn.feature_extraction.text import TfidfVectorizer\n",
    "\n",
    "# Load your training data (adjust the path to your data)\n",
    "train_data = pd.read_csv('SMSSpamCollection', header=None, delimiter='\\t')# Replace with your actual train data path\n",
    "train_data.columns = ['label', 'message']\n",
    "train_data['label'] = train_data['label'].map({'spam': 1, 'ham': 0})\n",
    "\n",
    "# Features (X) and Target (y)\n",
    "X_train = train_data['message']  # Messages are the features\n",
    "y_train = train_data['label']  # Labels (0 for ham, 1 for spam)\n",
    "\n",
    "# Split the data into training and validation sets\n",
    "X_train, X_valid, y_train, y_valid = train_test_split(X_train, y_train, test_size=0.2, random_state=42)\n",
    "\n",
    "# Initialize the TfidfVectorizer to convert text data into numerical format\n",
    "vectorizer = TfidfVectorizer(stop_words='english', max_features=5000)\n",
    "\n",
    "# Fit and transform the training data, and transform the validation data\n",
    "X_train_tfidf = vectorizer.fit_transform(X_train)\n",
    "X_valid_tfidf = vectorizer.transform(X_valid)\n",
    "\n",
    "# Initialize the Random Forest model\n",
    "rf_model = RandomForestClassifier(n_estimators=100, random_state=42)\n",
    "\n",
    "# Start an MLflow run to track this model\n",
    "with mlflow.start_run():\n",
    "    # Train the model\n",
    "    rf_model.fit(X_train_tfidf, y_train)\n",
    "\n",
    "    # Predict the probabilities for the validation set\n",
    "    y_pred_proba_rf = rf_model.predict_proba(X_valid_tfidf)[:, 1]\n",
    "\n",
    "    # Compute evaluation metrics\n",
    "    aucpr_rf = average_precision_score(y_valid, y_pred_proba_rf)\n",
    "    auc_rf = roc_auc_score(y_valid, y_pred_proba_rf)\n",
    "\n",
    "    # Log parameters, metrics, and the model\n",
    "    mlflow.log_param(\"model\", \"Random Forest\")\n",
    "    mlflow.log_metric(\"AUC\", auc_rf)\n",
    "    mlflow.log_metric(\"AUCPR\", aucpr_rf)\n",
    "    \n",
    "    # Log the trained model\n",
    "    mlflow.sklearn.log_model(rf_model, \"random_forest_model\")\n",
    "\n",
    "    print(f\"Logged Random Forest model with AUC: {auc_rf} and AUCPR: {aucpr_rf}\")\n"
   ]
  },
  {
   "cell_type": "code",
   "execution_count": 11,
   "metadata": {},
   "outputs": [
    {
     "name": "stderr",
     "output_type": "stream",
     "text": [
      "2025/02/22 19:24:24 WARNING mlflow.models.model: Model logged without a signature and input example. Please set `input_example` parameter when logging the model to auto infer the model signature.\n"
     ]
    },
    {
     "name": "stdout",
     "output_type": "stream",
     "text": [
      "Logged SVM model with AUC: 0.991245987744383 and AUCPR: 0.9850517077944083\n"
     ]
    }
   ],
   "source": [
    "from sklearn.svm import SVC\n",
    "from sklearn.metrics import roc_auc_score, average_precision_score\n",
    "from sklearn.model_selection import train_test_split\n",
    "from sklearn.feature_extraction.text import TfidfVectorizer\n",
    "# Load your training data (adjust the path to your data)\n",
    "train_data = pd.read_csv('SMSSpamCollection', header=None, delimiter='\\t')# Replace with your actual train data path\n",
    "train_data.columns = ['label', 'message']\n",
    "train_data['label'] = train_data['label'].map({'spam': 1, 'ham': 0})\n",
    "\n",
    "# Features (X) and Target (y)\n",
    "X_train = train_data['message']  # Messages are the features\n",
    "y_train = train_data['label']  # Labels (0 for ham, 1 for spam)\n",
    "\n",
    "# Split the data into training and validation sets\n",
    "X_train, X_valid, y_train, y_valid = train_test_split(X_train, y_train, test_size=0.2, random_state=42)\n",
    "\n",
    "# Initialize the TfidfVectorizer to convert text data into numerical format\n",
    "vectorizer = TfidfVectorizer(stop_words='english', max_features=5000)\n",
    "\n",
    "# Fit and transform the training data, and transform the validation data\n",
    "X_train_tfidf = vectorizer.fit_transform(X_train)\n",
    "X_valid_tfidf = vectorizer.transform(X_valid)\n",
    "\n",
    "# Initialize the Support Vector Machine (SVM) model\n",
    "svm_model = SVC(probability=True, random_state=42)\n",
    "\n",
    "# Start an MLflow run to track this model\n",
    "with mlflow.start_run():\n",
    "    # Train the model\n",
    "    svm_model.fit(X_train_tfidf, y_train)\n",
    "\n",
    "    # Predict the probabilities for the validation set\n",
    "    y_pred_proba_svm = svm_model.predict_proba(X_valid_tfidf)[:, 1]\n",
    "\n",
    "    # Compute evaluation metrics\n",
    "    aucpr_svm = average_precision_score(y_valid, y_pred_proba_svm)\n",
    "    auc_svm = roc_auc_score(y_valid, y_pred_proba_svm)\n",
    "\n",
    "    # Log parameters, metrics, and the model\n",
    "    mlflow.log_param(\"model\", \"SVM\")\n",
    "    mlflow.log_metric(\"AUC\", auc_svm)\n",
    "    mlflow.log_metric(\"AUCPR\", aucpr_svm)\n",
    "    \n",
    "    # Log the trained model\n",
    "    mlflow.sklearn.log_model(svm_model, \"svm_model\")\n",
    "\n",
    "    print(f\"Logged SVM model with AUC: {auc_svm} and AUCPR: {aucpr_svm}\")\n"
   ]
  }
 ],
 "metadata": {
  "kernelspec": {
   "display_name": "Python 3",
   "language": "python",
   "name": "python3"
  },
  "language_info": {
   "codemirror_mode": {
    "name": "ipython",
    "version": 3
   },
   "file_extension": ".py",
   "mimetype": "text/x-python",
   "name": "python",
   "nbconvert_exporter": "python",
   "pygments_lexer": "ipython3",
   "version": "3.13.0"
  }
 },
 "nbformat": 4,
 "nbformat_minor": 2
}
