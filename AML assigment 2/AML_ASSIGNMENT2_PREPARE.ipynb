{
  "cells": [
    {
      "cell_type": "code",
      "execution_count": null,
      "metadata": {
        "colab": {
          "base_uri": "https://localhost:8080/"
        },
        "id": "2i26v1hSD4IY",
        "outputId": "5863494d-917c-4dd0-de6a-25bb8a041269"
      },
      "outputs": [
        {
          "name": "stdout",
          "output_type": "stream",
          "text": [
            "Requirement already satisfied: dvc in /usr/local/lib/python3.11/dist-packages (3.59.1)\n",
            "Requirement already satisfied: attrs>=22.2.0 in /usr/local/lib/python3.11/dist-packages (from dvc) (25.1.0)\n",
            "Requirement already satisfied: celery in /usr/local/lib/python3.11/dist-packages (from dvc) (5.4.0)\n",
            "Requirement already satisfied: colorama>=0.3.9 in /usr/local/lib/python3.11/dist-packages (from dvc) (0.4.6)\n",
            "Requirement already satisfied: configobj>=5.0.9 in /usr/local/lib/python3.11/dist-packages (from dvc) (5.0.9)\n",
            "Requirement already satisfied: distro>=1.3 in /usr/local/lib/python3.11/dist-packages (from dvc) (1.9.0)\n",
            "Requirement already satisfied: dpath<3,>=2.1.0 in /usr/local/lib/python3.11/dist-packages (from dvc) (2.2.0)\n",
            "Requirement already satisfied: dulwich in /usr/local/lib/python3.11/dist-packages (from dvc) (0.22.8)\n",
            "Requirement already satisfied: dvc-data<3.17,>=3.16.2 in /usr/local/lib/python3.11/dist-packages (from dvc) (3.16.9)\n",
            "Requirement already satisfied: dvc-http>=2.29.0 in /usr/local/lib/python3.11/dist-packages (from dvc) (2.32.0)\n",
            "Requirement already satisfied: dvc-objects in /usr/local/lib/python3.11/dist-packages (from dvc) (5.1.0)\n",
            "Requirement already satisfied: dvc-render<2,>=1.0.1 in /usr/local/lib/python3.11/dist-packages (from dvc) (1.0.2)\n",
            "Requirement already satisfied: dvc-studio-client<1,>=0.21 in /usr/local/lib/python3.11/dist-packages (from dvc) (0.21.0)\n",
            "Requirement already satisfied: dvc-task<1,>=0.3.0 in /usr/local/lib/python3.11/dist-packages (from dvc) (0.40.2)\n",
            "Requirement already satisfied: flatten_dict<1,>=0.4.1 in /usr/local/lib/python3.11/dist-packages (from dvc) (0.4.2)\n",
            "Requirement already satisfied: flufl.lock<9,>=8.1.0 in /usr/local/lib/python3.11/dist-packages (from dvc) (8.1.0)\n",
            "Requirement already satisfied: fsspec>=2024.2.0 in /usr/local/lib/python3.11/dist-packages (from dvc) (2024.10.0)\n",
            "Requirement already satisfied: funcy>=1.14 in /usr/local/lib/python3.11/dist-packages (from dvc) (2.0)\n",
            "Requirement already satisfied: grandalf<1,>=0.7 in /usr/local/lib/python3.11/dist-packages (from dvc) (0.8)\n",
            "Requirement already satisfied: gto<2,>=1.6.0 in /usr/local/lib/python3.11/dist-packages (from dvc) (1.7.2)\n",
            "Requirement already satisfied: hydra-core>=1.1 in /usr/local/lib/python3.11/dist-packages (from dvc) (1.3.2)\n",
            "Requirement already satisfied: iterative-telemetry>=0.0.7 in /usr/local/lib/python3.11/dist-packages (from dvc) (0.0.10)\n",
            "Requirement already satisfied: kombu in /usr/local/lib/python3.11/dist-packages (from dvc) (5.4.2)\n",
            "Requirement already satisfied: networkx>=2.5 in /usr/local/lib/python3.11/dist-packages (from dvc) (3.4.2)\n",
            "Requirement already satisfied: omegaconf in /usr/local/lib/python3.11/dist-packages (from dvc) (2.3.0)\n",
            "Requirement already satisfied: packaging>=19 in /usr/local/lib/python3.11/dist-packages (from dvc) (24.2)\n",
            "Requirement already satisfied: pathspec>=0.10.3 in /usr/local/lib/python3.11/dist-packages (from dvc) (0.12.1)\n",
            "Requirement already satisfied: platformdirs<5,>=3.1.1 in /usr/local/lib/python3.11/dist-packages (from dvc) (4.3.6)\n",
            "Requirement already satisfied: psutil>=5.8 in /usr/local/lib/python3.11/dist-packages (from dvc) (5.9.5)\n",
            "Requirement already satisfied: pydot>=1.2.4 in /usr/local/lib/python3.11/dist-packages (from dvc) (3.0.4)\n",
            "Requirement already satisfied: pygtrie>=2.3.2 in /usr/local/lib/python3.11/dist-packages (from dvc) (2.5.0)\n",
            "Requirement already satisfied: pyparsing>=2.4.7 in /usr/local/lib/python3.11/dist-packages (from dvc) (3.2.1)\n",
            "Requirement already satisfied: requests>=2.22 in /usr/local/lib/python3.11/dist-packages (from dvc) (2.32.3)\n",
            "Requirement already satisfied: rich>=12 in /usr/local/lib/python3.11/dist-packages (from dvc) (13.9.4)\n",
            "Requirement already satisfied: ruamel.yaml>=0.17.11 in /usr/local/lib/python3.11/dist-packages (from dvc) (0.18.10)\n",
            "Requirement already satisfied: scmrepo<4,>=3.3.8 in /usr/local/lib/python3.11/dist-packages (from dvc) (3.3.10)\n",
            "Requirement already satisfied: shortuuid>=0.5 in /usr/local/lib/python3.11/dist-packages (from dvc) (1.0.13)\n",
            "Requirement already satisfied: shtab<2,>=1.3.4 in /usr/local/lib/python3.11/dist-packages (from dvc) (1.7.1)\n",
            "Requirement already satisfied: tabulate>=0.8.7 in /usr/local/lib/python3.11/dist-packages (from dvc) (0.9.0)\n",
            "Requirement already satisfied: tomlkit>=0.11.1 in /usr/local/lib/python3.11/dist-packages (from dvc) (0.13.2)\n",
            "Requirement already satisfied: tqdm<5,>=4.63.1 in /usr/local/lib/python3.11/dist-packages (from dvc) (4.67.1)\n",
            "Requirement already satisfied: voluptuous>=0.11.7 in /usr/local/lib/python3.11/dist-packages (from dvc) (0.15.2)\n",
            "Requirement already satisfied: zc.lockfile>=1.2.1 in /usr/local/lib/python3.11/dist-packages (from dvc) (3.0.post1)\n",
            "Requirement already satisfied: dictdiffer>=0.8.1 in /usr/local/lib/python3.11/dist-packages (from dvc-data<3.17,>=3.16.2->dvc) (0.9.0)\n",
            "Requirement already satisfied: diskcache>=5.2.1 in /usr/local/lib/python3.11/dist-packages (from dvc-data<3.17,>=3.16.2->dvc) (5.6.3)\n",
            "Requirement already satisfied: sqltrie<1,>=0.11.0 in /usr/local/lib/python3.11/dist-packages (from dvc-data<3.17,>=3.16.2->dvc) (0.11.2)\n",
            "Requirement already satisfied: orjson<4,>=3 in /usr/local/lib/python3.11/dist-packages (from dvc-data<3.17,>=3.16.2->dvc) (3.10.15)\n",
            "Requirement already satisfied: aiohttp-retry>=2.5.0 in /usr/local/lib/python3.11/dist-packages (from dvc-http>=2.29.0->dvc) (2.9.1)\n",
            "Requirement already satisfied: billiard<5.0,>=4.2.0 in /usr/local/lib/python3.11/dist-packages (from celery->dvc) (4.2.1)\n",
            "Requirement already satisfied: vine<6.0,>=5.1.0 in /usr/local/lib/python3.11/dist-packages (from celery->dvc) (5.1.0)\n",
            "Requirement already satisfied: click<9.0,>=8.1.2 in /usr/local/lib/python3.11/dist-packages (from celery->dvc) (8.1.8)\n",
            "Requirement already satisfied: click-didyoumean>=0.3.0 in /usr/local/lib/python3.11/dist-packages (from celery->dvc) (0.3.1)\n",
            "Requirement already satisfied: click-repl>=0.2.0 in /usr/local/lib/python3.11/dist-packages (from celery->dvc) (0.3.0)\n",
            "Requirement already satisfied: click-plugins>=1.1.1 in /usr/local/lib/python3.11/dist-packages (from celery->dvc) (1.1.1)\n",
            "Requirement already satisfied: tzdata>=2022.7 in /usr/local/lib/python3.11/dist-packages (from celery->dvc) (2025.1)\n",
            "Requirement already satisfied: python-dateutil>=2.8.2 in /usr/local/lib/python3.11/dist-packages (from celery->dvc) (2.8.2)\n",
            "Requirement already satisfied: six<2.0,>=1.12 in /usr/local/lib/python3.11/dist-packages (from flatten_dict<1,>=0.4.1->dvc) (1.17.0)\n",
            "Requirement already satisfied: atpublic in /usr/local/lib/python3.11/dist-packages (from flufl.lock<9,>=8.1.0->dvc) (4.1.0)\n",
            "Requirement already satisfied: entrypoints in /usr/local/lib/python3.11/dist-packages (from gto<2,>=1.6.0->dvc) (0.4)\n",
            "Requirement already satisfied: pydantic!=2.0.0,<3,>=1.9.0 in /usr/local/lib/python3.11/dist-packages (from gto<2,>=1.6.0->dvc) (2.10.6)\n",
            "Requirement already satisfied: semver>=2.13.0 in /usr/local/lib/python3.11/dist-packages (from gto<2,>=1.6.0->dvc) (3.0.4)\n",
            "Requirement already satisfied: typer>=0.4.1 in /usr/local/lib/python3.11/dist-packages (from gto<2,>=1.6.0->dvc) (0.15.1)\n",
            "Requirement already satisfied: antlr4-python3-runtime==4.9.* in /usr/local/lib/python3.11/dist-packages (from hydra-core>=1.1->dvc) (4.9.3)\n",
            "Requirement already satisfied: appdirs in /usr/local/lib/python3.11/dist-packages (from iterative-telemetry>=0.0.7->dvc) (1.4.4)\n",
            "Requirement already satisfied: filelock in /usr/local/lib/python3.11/dist-packages (from iterative-telemetry>=0.0.7->dvc) (3.17.0)\n",
            "Requirement already satisfied: amqp<6.0.0,>=5.1.1 in /usr/local/lib/python3.11/dist-packages (from kombu->dvc) (5.3.1)\n",
            "Requirement already satisfied: PyYAML>=5.1.0 in /usr/local/lib/python3.11/dist-packages (from omegaconf->dvc) (6.0.2)\n",
            "Requirement already satisfied: charset-normalizer<4,>=2 in /usr/local/lib/python3.11/dist-packages (from requests>=2.22->dvc) (3.4.1)\n",
            "Requirement already satisfied: idna<4,>=2.5 in /usr/local/lib/python3.11/dist-packages (from requests>=2.22->dvc) (3.10)\n",
            "Requirement already satisfied: urllib3<3,>=1.21.1 in /usr/local/lib/python3.11/dist-packages (from requests>=2.22->dvc) (2.3.0)\n",
            "Requirement already satisfied: certifi>=2017.4.17 in /usr/local/lib/python3.11/dist-packages (from requests>=2.22->dvc) (2025.1.31)\n",
            "Requirement already satisfied: markdown-it-py>=2.2.0 in /usr/local/lib/python3.11/dist-packages (from rich>=12->dvc) (3.0.0)\n",
            "Requirement already satisfied: pygments<3.0.0,>=2.13.0 in /usr/local/lib/python3.11/dist-packages (from rich>=12->dvc) (2.18.0)\n",
            "Requirement already satisfied: ruamel.yaml.clib>=0.2.7 in /usr/local/lib/python3.11/dist-packages (from ruamel.yaml>=0.17.11->dvc) (0.2.12)\n",
            "Requirement already satisfied: gitpython>3 in /usr/local/lib/python3.11/dist-packages (from scmrepo<4,>=3.3.8->dvc) (3.1.44)\n",
            "Requirement already satisfied: pygit2>=1.14.0 in /usr/local/lib/python3.11/dist-packages (from scmrepo<4,>=3.3.8->dvc) (1.17.0)\n",
            "Requirement already satisfied: asyncssh<3,>=2.13.1 in /usr/local/lib/python3.11/dist-packages (from scmrepo<4,>=3.3.8->dvc) (2.20.0)\n",
            "Requirement already satisfied: setuptools in /usr/local/lib/python3.11/dist-packages (from zc.lockfile>=1.2.1->dvc) (75.1.0)\n",
            "Requirement already satisfied: aiohttp in /usr/local/lib/python3.11/dist-packages (from aiohttp-retry>=2.5.0->dvc-http>=2.29.0->dvc) (3.11.13)\n",
            "Requirement already satisfied: cryptography>=39.0 in /usr/local/lib/python3.11/dist-packages (from asyncssh<3,>=2.13.1->scmrepo<4,>=3.3.8->dvc) (43.0.3)\n",
            "Requirement already satisfied: typing_extensions>=4.0.0 in /usr/local/lib/python3.11/dist-packages (from asyncssh<3,>=2.13.1->scmrepo<4,>=3.3.8->dvc) (4.12.2)\n",
            "Requirement already satisfied: prompt-toolkit>=3.0.36 in /usr/local/lib/python3.11/dist-packages (from click-repl>=0.2.0->celery->dvc) (3.0.50)\n",
            "Requirement already satisfied: gitdb<5,>=4.0.1 in /usr/local/lib/python3.11/dist-packages (from gitpython>3->scmrepo<4,>=3.3.8->dvc) (4.0.12)\n",
            "Requirement already satisfied: mdurl~=0.1 in /usr/local/lib/python3.11/dist-packages (from markdown-it-py>=2.2.0->rich>=12->dvc) (0.1.2)\n",
            "Requirement already satisfied: annotated-types>=0.6.0 in /usr/local/lib/python3.11/dist-packages (from pydantic!=2.0.0,<3,>=1.9.0->gto<2,>=1.6.0->dvc) (0.7.0)\n",
            "Requirement already satisfied: pydantic-core==2.27.2 in /usr/local/lib/python3.11/dist-packages (from pydantic!=2.0.0,<3,>=1.9.0->gto<2,>=1.6.0->dvc) (2.27.2)\n",
            "Requirement already satisfied: cffi>=1.17.0 in /usr/local/lib/python3.11/dist-packages (from pygit2>=1.14.0->scmrepo<4,>=3.3.8->dvc) (1.17.1)\n",
            "Requirement already satisfied: shellingham>=1.3.0 in /usr/local/lib/python3.11/dist-packages (from typer>=0.4.1->gto<2,>=1.6.0->dvc) (1.5.4)\n",
            "Requirement already satisfied: aiohappyeyeballs>=2.3.0 in /usr/local/lib/python3.11/dist-packages (from aiohttp->aiohttp-retry>=2.5.0->dvc-http>=2.29.0->dvc) (2.4.6)\n",
            "Requirement already satisfied: aiosignal>=1.1.2 in /usr/local/lib/python3.11/dist-packages (from aiohttp->aiohttp-retry>=2.5.0->dvc-http>=2.29.0->dvc) (1.3.2)\n",
            "Requirement already satisfied: frozenlist>=1.1.1 in /usr/local/lib/python3.11/dist-packages (from aiohttp->aiohttp-retry>=2.5.0->dvc-http>=2.29.0->dvc) (1.5.0)\n",
            "Requirement already satisfied: multidict<7.0,>=4.5 in /usr/local/lib/python3.11/dist-packages (from aiohttp->aiohttp-retry>=2.5.0->dvc-http>=2.29.0->dvc) (6.1.0)\n",
            "Requirement already satisfied: propcache>=0.2.0 in /usr/local/lib/python3.11/dist-packages (from aiohttp->aiohttp-retry>=2.5.0->dvc-http>=2.29.0->dvc) (0.3.0)\n",
            "Requirement already satisfied: yarl<2.0,>=1.17.0 in /usr/local/lib/python3.11/dist-packages (from aiohttp->aiohttp-retry>=2.5.0->dvc-http>=2.29.0->dvc) (1.18.3)\n",
            "Requirement already satisfied: pycparser in /usr/local/lib/python3.11/dist-packages (from cffi>=1.17.0->pygit2>=1.14.0->scmrepo<4,>=3.3.8->dvc) (2.22)\n",
            "Requirement already satisfied: smmap<6,>=3.0.1 in /usr/local/lib/python3.11/dist-packages (from gitdb<5,>=4.0.1->gitpython>3->scmrepo<4,>=3.3.8->dvc) (5.0.2)\n",
            "Requirement already satisfied: wcwidth in /usr/local/lib/python3.11/dist-packages (from prompt-toolkit>=3.0.36->click-repl>=0.2.0->celery->dvc) (0.2.13)\n",
            "Requirement already satisfied: pandas in /usr/local/lib/python3.11/dist-packages (2.2.2)\n",
            "Requirement already satisfied: scikit-learn in /usr/local/lib/python3.11/dist-packages (1.6.1)\n",
            "Requirement already satisfied: numpy>=1.23.2 in /usr/local/lib/python3.11/dist-packages (from pandas) (1.26.4)\n",
            "Requirement already satisfied: python-dateutil>=2.8.2 in /usr/local/lib/python3.11/dist-packages (from pandas) (2.8.2)\n",
            "Requirement already satisfied: pytz>=2020.1 in /usr/local/lib/python3.11/dist-packages (from pandas) (2025.1)\n",
            "Requirement already satisfied: tzdata>=2022.7 in /usr/local/lib/python3.11/dist-packages (from pandas) (2025.1)\n",
            "Requirement already satisfied: scipy>=1.6.0 in /usr/local/lib/python3.11/dist-packages (from scikit-learn) (1.13.1)\n",
            "Requirement already satisfied: joblib>=1.2.0 in /usr/local/lib/python3.11/dist-packages (from scikit-learn) (1.4.2)\n",
            "Requirement already satisfied: threadpoolctl>=3.1.0 in /usr/local/lib/python3.11/dist-packages (from scikit-learn) (3.5.0)\n",
            "Requirement already satisfied: six>=1.5 in /usr/local/lib/python3.11/dist-packages (from python-dateutil>=2.8.2->pandas) (1.17.0)\n"
          ]
        }
      ],
      "source": [
        "!pip install dvc\n",
        "!pip install pandas scikit-learn"
      ]
    },
    {
      "cell_type": "code",
      "execution_count": null,
      "metadata": {
        "colab": {
          "base_uri": "https://localhost:8080/"
        },
        "id": "hZ_i0fwSD9UK",
        "outputId": "a6f13693-a710-41ad-cddf-862cd0ef8a25"
      },
      "outputs": [
        {
          "name": "stderr",
          "output_type": "stream",
          "text": [
            "[nltk_data] Downloading package stopwords to /root/nltk_data...\n",
            "[nltk_data]   Unzipping corpora/stopwords.zip.\n"
          ]
        }
      ],
      "source": [
        "import nltk\n",
        "import pandas as pd\n",
        "import numpy as np\n",
        "from nltk.corpus import stopwords\n",
        "from nltk.tokenize import word_tokenize\n",
        "from sklearn.model_selection import train_test_split\n",
        "import random\n",
        "random.seed(42)\n",
        "import seaborn as sns\n",
        "import matplotlib.pyplot as plt\n",
        "import re\n",
        "import csv\n",
        "\n",
        "%matplotlib inline\n",
        "import matplotlib.pyplot as plt\n",
        "\n",
        "nltk.download('stopwords')\n",
        "\n",
        "import warnings\n",
        "warnings.filterwarnings(\"ignore\")"
      ]
    },
    {
      "cell_type": "code",
      "execution_count": null,
      "metadata": {
        "colab": {
          "base_uri": "https://localhost:8080/"
        },
        "id": "CGFV40AiEMxu",
        "outputId": "d414cef3-e64f-49c7-cc46-c6730e66a1c0"
      },
      "outputs": [
        {
          "name": "stdout",
          "output_type": "stream",
          "text": [
            "Conversion complete! The CSV file is saved as /content/SMSSpamCollection.csv.\n"
          ]
        }
      ],
      "source": [
        "# Read the text file and process the data\n",
        "input_file = \"/content/SMSSpamCollection\"\n",
        "output_file = \"/content/SMSSpamCollection.csv\"\n",
        "\n",
        "with open(input_file, \"r\", encoding=\"utf-8\") as infile, open(output_file, \"w\", encoding=\"utf-8\", newline=\"\") as outfile:\n",
        "    writer = csv.writer(outfile)\n",
        "\n",
        "    # Write the header\n",
        "    writer.writerow([\"Label\", \"Message\"])\n",
        "\n",
        "    # Read each line and split it into label and message\n",
        "    for line in infile:\n",
        "        try:\n",
        "            # Split only on the first space to handle messages with spaces\n",
        "            label, message = line.strip().split(\"\\t\", 1)\n",
        "            writer.writerow([label, message])\n",
        "        except ValueError:\n",
        "            # Skip lines that don't match the format\n",
        "            continue\n",
        "\n",
        "print(f\"Conversion complete! The CSV file is saved as {output_file}.\")\n"
      ]
    },
    {
      "cell_type": "code",
      "execution_count": null,
      "metadata": {
        "colab": {
          "base_uri": "https://localhost:8080/",
          "height": 424
        },
        "id": "BymYWjrlES6q",
        "outputId": "46208017-ce6b-4f19-81e9-9f6f7494e4e4"
      },
      "outputs": [
        {
          "data": {
            "application/vnd.google.colaboratory.intrinsic+json": {
              "summary": "{\n  \"name\": \"raw_data\",\n  \"rows\": 5574,\n  \"fields\": [\n    {\n      \"column\": \"Label\",\n      \"properties\": {\n        \"dtype\": \"category\",\n        \"num_unique_values\": 2,\n        \"samples\": [\n          \"spam\",\n          \"ham\"\n        ],\n        \"semantic_type\": \"\",\n        \"description\": \"\"\n      }\n    },\n    {\n      \"column\": \"Message\",\n      \"properties\": {\n        \"dtype\": \"string\",\n        \"num_unique_values\": 5160,\n        \"samples\": [\n          \"they released another Italian one today and it has a cosign option\",\n          \"I'm not. She lip synced with shangela.\"\n        ],\n        \"semantic_type\": \"\",\n        \"description\": \"\"\n      }\n    }\n  ]\n}",
              "type": "dataframe",
              "variable_name": "raw_data"
            },
            "text/html": [
              "\n",
              "  <div id=\"df-b83a02f2-29f5-4dfb-b086-2762c535b6fd\" class=\"colab-df-container\">\n",
              "    <div>\n",
              "<style scoped>\n",
              "    .dataframe tbody tr th:only-of-type {\n",
              "        vertical-align: middle;\n",
              "    }\n",
              "\n",
              "    .dataframe tbody tr th {\n",
              "        vertical-align: top;\n",
              "    }\n",
              "\n",
              "    .dataframe thead th {\n",
              "        text-align: right;\n",
              "    }\n",
              "</style>\n",
              "<table border=\"1\" class=\"dataframe\">\n",
              "  <thead>\n",
              "    <tr style=\"text-align: right;\">\n",
              "      <th></th>\n",
              "      <th>Label</th>\n",
              "      <th>Message</th>\n",
              "    </tr>\n",
              "  </thead>\n",
              "  <tbody>\n",
              "    <tr>\n",
              "      <th>0</th>\n",
              "      <td>ham</td>\n",
              "      <td>Go until jurong point, crazy.. Available only ...</td>\n",
              "    </tr>\n",
              "    <tr>\n",
              "      <th>1</th>\n",
              "      <td>ham</td>\n",
              "      <td>Ok lar... Joking wif u oni...</td>\n",
              "    </tr>\n",
              "    <tr>\n",
              "      <th>2</th>\n",
              "      <td>spam</td>\n",
              "      <td>Free entry in 2 a wkly comp to win FA Cup fina...</td>\n",
              "    </tr>\n",
              "    <tr>\n",
              "      <th>3</th>\n",
              "      <td>ham</td>\n",
              "      <td>U dun say so early hor... U c already then say...</td>\n",
              "    </tr>\n",
              "    <tr>\n",
              "      <th>4</th>\n",
              "      <td>ham</td>\n",
              "      <td>Nah I don't think he goes to usf, he lives aro...</td>\n",
              "    </tr>\n",
              "    <tr>\n",
              "      <th>...</th>\n",
              "      <td>...</td>\n",
              "      <td>...</td>\n",
              "    </tr>\n",
              "    <tr>\n",
              "      <th>5569</th>\n",
              "      <td>spam</td>\n",
              "      <td>This is the 2nd time we have tried 2 contact u...</td>\n",
              "    </tr>\n",
              "    <tr>\n",
              "      <th>5570</th>\n",
              "      <td>ham</td>\n",
              "      <td>Will ü b going to esplanade fr home?</td>\n",
              "    </tr>\n",
              "    <tr>\n",
              "      <th>5571</th>\n",
              "      <td>ham</td>\n",
              "      <td>Pity, * was in mood for that. So...any other s...</td>\n",
              "    </tr>\n",
              "    <tr>\n",
              "      <th>5572</th>\n",
              "      <td>ham</td>\n",
              "      <td>The guy did some bitching but I acted like i'd...</td>\n",
              "    </tr>\n",
              "    <tr>\n",
              "      <th>5573</th>\n",
              "      <td>ham</td>\n",
              "      <td>Rofl. Its true to its name</td>\n",
              "    </tr>\n",
              "  </tbody>\n",
              "</table>\n",
              "<p>5574 rows × 2 columns</p>\n",
              "</div>\n",
              "    <div class=\"colab-df-buttons\">\n",
              "\n",
              "  <div class=\"colab-df-container\">\n",
              "    <button class=\"colab-df-convert\" onclick=\"convertToInteractive('df-b83a02f2-29f5-4dfb-b086-2762c535b6fd')\"\n",
              "            title=\"Convert this dataframe to an interactive table.\"\n",
              "            style=\"display:none;\">\n",
              "\n",
              "  <svg xmlns=\"http://www.w3.org/2000/svg\" height=\"24px\" viewBox=\"0 -960 960 960\">\n",
              "    <path d=\"M120-120v-720h720v720H120Zm60-500h600v-160H180v160Zm220 220h160v-160H400v160Zm0 220h160v-160H400v160ZM180-400h160v-160H180v160Zm440 0h160v-160H620v160ZM180-180h160v-160H180v160Zm440 0h160v-160H620v160Z\"/>\n",
              "  </svg>\n",
              "    </button>\n",
              "\n",
              "  <style>\n",
              "    .colab-df-container {\n",
              "      display:flex;\n",
              "      gap: 12px;\n",
              "    }\n",
              "\n",
              "    .colab-df-convert {\n",
              "      background-color: #E8F0FE;\n",
              "      border: none;\n",
              "      border-radius: 50%;\n",
              "      cursor: pointer;\n",
              "      display: none;\n",
              "      fill: #1967D2;\n",
              "      height: 32px;\n",
              "      padding: 0 0 0 0;\n",
              "      width: 32px;\n",
              "    }\n",
              "\n",
              "    .colab-df-convert:hover {\n",
              "      background-color: #E2EBFA;\n",
              "      box-shadow: 0px 1px 2px rgba(60, 64, 67, 0.3), 0px 1px 3px 1px rgba(60, 64, 67, 0.15);\n",
              "      fill: #174EA6;\n",
              "    }\n",
              "\n",
              "    .colab-df-buttons div {\n",
              "      margin-bottom: 4px;\n",
              "    }\n",
              "\n",
              "    [theme=dark] .colab-df-convert {\n",
              "      background-color: #3B4455;\n",
              "      fill: #D2E3FC;\n",
              "    }\n",
              "\n",
              "    [theme=dark] .colab-df-convert:hover {\n",
              "      background-color: #434B5C;\n",
              "      box-shadow: 0px 1px 3px 1px rgba(0, 0, 0, 0.15);\n",
              "      filter: drop-shadow(0px 1px 2px rgba(0, 0, 0, 0.3));\n",
              "      fill: #FFFFFF;\n",
              "    }\n",
              "  </style>\n",
              "\n",
              "    <script>\n",
              "      const buttonEl =\n",
              "        document.querySelector('#df-b83a02f2-29f5-4dfb-b086-2762c535b6fd button.colab-df-convert');\n",
              "      buttonEl.style.display =\n",
              "        google.colab.kernel.accessAllowed ? 'block' : 'none';\n",
              "\n",
              "      async function convertToInteractive(key) {\n",
              "        const element = document.querySelector('#df-b83a02f2-29f5-4dfb-b086-2762c535b6fd');\n",
              "        const dataTable =\n",
              "          await google.colab.kernel.invokeFunction('convertToInteractive',\n",
              "                                                    [key], {});\n",
              "        if (!dataTable) return;\n",
              "\n",
              "        const docLinkHtml = 'Like what you see? Visit the ' +\n",
              "          '<a target=\"_blank\" href=https://colab.research.google.com/notebooks/data_table.ipynb>data table notebook</a>'\n",
              "          + ' to learn more about interactive tables.';\n",
              "        element.innerHTML = '';\n",
              "        dataTable['output_type'] = 'display_data';\n",
              "        await google.colab.output.renderOutput(dataTable, element);\n",
              "        const docLink = document.createElement('div');\n",
              "        docLink.innerHTML = docLinkHtml;\n",
              "        element.appendChild(docLink);\n",
              "      }\n",
              "    </script>\n",
              "  </div>\n",
              "\n",
              "\n",
              "<div id=\"df-e4192f55-cb36-4949-8c58-5fe348413c95\">\n",
              "  <button class=\"colab-df-quickchart\" onclick=\"quickchart('df-e4192f55-cb36-4949-8c58-5fe348413c95')\"\n",
              "            title=\"Suggest charts\"\n",
              "            style=\"display:none;\">\n",
              "\n",
              "<svg xmlns=\"http://www.w3.org/2000/svg\" height=\"24px\"viewBox=\"0 0 24 24\"\n",
              "     width=\"24px\">\n",
              "    <g>\n",
              "        <path d=\"M19 3H5c-1.1 0-2 .9-2 2v14c0 1.1.9 2 2 2h14c1.1 0 2-.9 2-2V5c0-1.1-.9-2-2-2zM9 17H7v-7h2v7zm4 0h-2V7h2v10zm4 0h-2v-4h2v4z\"/>\n",
              "    </g>\n",
              "</svg>\n",
              "  </button>\n",
              "\n",
              "<style>\n",
              "  .colab-df-quickchart {\n",
              "      --bg-color: #E8F0FE;\n",
              "      --fill-color: #1967D2;\n",
              "      --hover-bg-color: #E2EBFA;\n",
              "      --hover-fill-color: #174EA6;\n",
              "      --disabled-fill-color: #AAA;\n",
              "      --disabled-bg-color: #DDD;\n",
              "  }\n",
              "\n",
              "  [theme=dark] .colab-df-quickchart {\n",
              "      --bg-color: #3B4455;\n",
              "      --fill-color: #D2E3FC;\n",
              "      --hover-bg-color: #434B5C;\n",
              "      --hover-fill-color: #FFFFFF;\n",
              "      --disabled-bg-color: #3B4455;\n",
              "      --disabled-fill-color: #666;\n",
              "  }\n",
              "\n",
              "  .colab-df-quickchart {\n",
              "    background-color: var(--bg-color);\n",
              "    border: none;\n",
              "    border-radius: 50%;\n",
              "    cursor: pointer;\n",
              "    display: none;\n",
              "    fill: var(--fill-color);\n",
              "    height: 32px;\n",
              "    padding: 0;\n",
              "    width: 32px;\n",
              "  }\n",
              "\n",
              "  .colab-df-quickchart:hover {\n",
              "    background-color: var(--hover-bg-color);\n",
              "    box-shadow: 0 1px 2px rgba(60, 64, 67, 0.3), 0 1px 3px 1px rgba(60, 64, 67, 0.15);\n",
              "    fill: var(--button-hover-fill-color);\n",
              "  }\n",
              "\n",
              "  .colab-df-quickchart-complete:disabled,\n",
              "  .colab-df-quickchart-complete:disabled:hover {\n",
              "    background-color: var(--disabled-bg-color);\n",
              "    fill: var(--disabled-fill-color);\n",
              "    box-shadow: none;\n",
              "  }\n",
              "\n",
              "  .colab-df-spinner {\n",
              "    border: 2px solid var(--fill-color);\n",
              "    border-color: transparent;\n",
              "    border-bottom-color: var(--fill-color);\n",
              "    animation:\n",
              "      spin 1s steps(1) infinite;\n",
              "  }\n",
              "\n",
              "  @keyframes spin {\n",
              "    0% {\n",
              "      border-color: transparent;\n",
              "      border-bottom-color: var(--fill-color);\n",
              "      border-left-color: var(--fill-color);\n",
              "    }\n",
              "    20% {\n",
              "      border-color: transparent;\n",
              "      border-left-color: var(--fill-color);\n",
              "      border-top-color: var(--fill-color);\n",
              "    }\n",
              "    30% {\n",
              "      border-color: transparent;\n",
              "      border-left-color: var(--fill-color);\n",
              "      border-top-color: var(--fill-color);\n",
              "      border-right-color: var(--fill-color);\n",
              "    }\n",
              "    40% {\n",
              "      border-color: transparent;\n",
              "      border-right-color: var(--fill-color);\n",
              "      border-top-color: var(--fill-color);\n",
              "    }\n",
              "    60% {\n",
              "      border-color: transparent;\n",
              "      border-right-color: var(--fill-color);\n",
              "    }\n",
              "    80% {\n",
              "      border-color: transparent;\n",
              "      border-right-color: var(--fill-color);\n",
              "      border-bottom-color: var(--fill-color);\n",
              "    }\n",
              "    90% {\n",
              "      border-color: transparent;\n",
              "      border-bottom-color: var(--fill-color);\n",
              "    }\n",
              "  }\n",
              "</style>\n",
              "\n",
              "  <script>\n",
              "    async function quickchart(key) {\n",
              "      const quickchartButtonEl =\n",
              "        document.querySelector('#' + key + ' button');\n",
              "      quickchartButtonEl.disabled = true;  // To prevent multiple clicks.\n",
              "      quickchartButtonEl.classList.add('colab-df-spinner');\n",
              "      try {\n",
              "        const charts = await google.colab.kernel.invokeFunction(\n",
              "            'suggestCharts', [key], {});\n",
              "      } catch (error) {\n",
              "        console.error('Error during call to suggestCharts:', error);\n",
              "      }\n",
              "      quickchartButtonEl.classList.remove('colab-df-spinner');\n",
              "      quickchartButtonEl.classList.add('colab-df-quickchart-complete');\n",
              "    }\n",
              "    (() => {\n",
              "      let quickchartButtonEl =\n",
              "        document.querySelector('#df-e4192f55-cb36-4949-8c58-5fe348413c95 button');\n",
              "      quickchartButtonEl.style.display =\n",
              "        google.colab.kernel.accessAllowed ? 'block' : 'none';\n",
              "    })();\n",
              "  </script>\n",
              "</div>\n",
              "\n",
              "  <div id=\"id_4fbb692c-32e1-4a2c-abba-1d4388163ee6\">\n",
              "    <style>\n",
              "      .colab-df-generate {\n",
              "        background-color: #E8F0FE;\n",
              "        border: none;\n",
              "        border-radius: 50%;\n",
              "        cursor: pointer;\n",
              "        display: none;\n",
              "        fill: #1967D2;\n",
              "        height: 32px;\n",
              "        padding: 0 0 0 0;\n",
              "        width: 32px;\n",
              "      }\n",
              "\n",
              "      .colab-df-generate:hover {\n",
              "        background-color: #E2EBFA;\n",
              "        box-shadow: 0px 1px 2px rgba(60, 64, 67, 0.3), 0px 1px 3px 1px rgba(60, 64, 67, 0.15);\n",
              "        fill: #174EA6;\n",
              "      }\n",
              "\n",
              "      [theme=dark] .colab-df-generate {\n",
              "        background-color: #3B4455;\n",
              "        fill: #D2E3FC;\n",
              "      }\n",
              "\n",
              "      [theme=dark] .colab-df-generate:hover {\n",
              "        background-color: #434B5C;\n",
              "        box-shadow: 0px 1px 3px 1px rgba(0, 0, 0, 0.15);\n",
              "        filter: drop-shadow(0px 1px 2px rgba(0, 0, 0, 0.3));\n",
              "        fill: #FFFFFF;\n",
              "      }\n",
              "    </style>\n",
              "    <button class=\"colab-df-generate\" onclick=\"generateWithVariable('raw_data')\"\n",
              "            title=\"Generate code using this dataframe.\"\n",
              "            style=\"display:none;\">\n",
              "\n",
              "  <svg xmlns=\"http://www.w3.org/2000/svg\" height=\"24px\"viewBox=\"0 0 24 24\"\n",
              "       width=\"24px\">\n",
              "    <path d=\"M7,19H8.4L18.45,9,17,7.55,7,17.6ZM5,21V16.75L18.45,3.32a2,2,0,0,1,2.83,0l1.4,1.43a1.91,1.91,0,0,1,.58,1.4,1.91,1.91,0,0,1-.58,1.4L9.25,21ZM18.45,9,17,7.55Zm-12,3A5.31,5.31,0,0,0,4.9,8.1,5.31,5.31,0,0,0,1,6.5,5.31,5.31,0,0,0,4.9,4.9,5.31,5.31,0,0,0,6.5,1,5.31,5.31,0,0,0,8.1,4.9,5.31,5.31,0,0,0,12,6.5,5.46,5.46,0,0,0,6.5,12Z\"/>\n",
              "  </svg>\n",
              "    </button>\n",
              "    <script>\n",
              "      (() => {\n",
              "      const buttonEl =\n",
              "        document.querySelector('#id_4fbb692c-32e1-4a2c-abba-1d4388163ee6 button.colab-df-generate');\n",
              "      buttonEl.style.display =\n",
              "        google.colab.kernel.accessAllowed ? 'block' : 'none';\n",
              "\n",
              "      buttonEl.onclick = () => {\n",
              "        google.colab.notebook.generateWithVariable('raw_data');\n",
              "      }\n",
              "      })();\n",
              "    </script>\n",
              "  </div>\n",
              "\n",
              "    </div>\n",
              "  </div>\n"
            ],
            "text/plain": [
              "     Label                                            Message\n",
              "0      ham  Go until jurong point, crazy.. Available only ...\n",
              "1      ham                      Ok lar... Joking wif u oni...\n",
              "2     spam  Free entry in 2 a wkly comp to win FA Cup fina...\n",
              "3      ham  U dun say so early hor... U c already then say...\n",
              "4      ham  Nah I don't think he goes to usf, he lives aro...\n",
              "...    ...                                                ...\n",
              "5569  spam  This is the 2nd time we have tried 2 contact u...\n",
              "5570   ham               Will ü b going to esplanade fr home?\n",
              "5571   ham  Pity, * was in mood for that. So...any other s...\n",
              "5572   ham  The guy did some bitching but I acted like i'd...\n",
              "5573   ham                         Rofl. Its true to its name\n",
              "\n",
              "[5574 rows x 2 columns]"
            ]
          },
          "execution_count": 22,
          "metadata": {},
          "output_type": "execute_result"
        }
      ],
      "source": [
        "raw_data = pd.read_csv(\"/content/SMSSpamCollection.csv\")\n",
        "raw_data"
      ]
    },
    {
      "cell_type": "code",
      "execution_count": null,
      "metadata": {
        "id": "0Z3U1mCbEZdg"
      },
      "outputs": [],
      "source": [
        "def preprocess_text(text):\n",
        "    text = text.lower()\n",
        "    regex = f\"^subject:\\s(.*)\"\n",
        "    match = re.search(regex, text)\n",
        "    if match:\n",
        "      text = match.group(1)\n",
        "    text = re.sub(r\"[^a-z .]\", \"\", text)\n",
        "    words = text.split()\n",
        "    words = [word for word in words if word.isalpha() and word not in stopwords.words('english')]\n",
        "    return ' '.join(words)"
      ]
    },
    {
      "cell_type": "code",
      "execution_count": null,
      "metadata": {
        "colab": {
          "base_uri": "https://localhost:8080/"
        },
        "id": "UB4iaMAxEedI",
        "outputId": "8bd1b07d-3b80-47d9-ff0b-7bfd3a92fbf4"
      },
      "outputs": [
        {
          "name": "stdout",
          "output_type": "stream",
          "text": [
            "Begin text preprocessing:\n",
            "\n",
            "---------------------------------------- : 9% completed\n",
            "++++------------------------------------ : 18% completed\n",
            "++++++++-------------------------------- : 27% completed\n",
            "++++++++++++---------------------------- : 36% completed\n",
            "++++++++++++++++------------------------ : 45% completed\n",
            "++++++++++++++++++++-------------------- : 54% completed\n",
            "++++++++++++++++++++++++---------------- : 63% completed\n",
            "++++++++++++++++++++++++++++------------ : 72% completed\n",
            "++++++++++++++++++++++++++++++++-------- : 81% completed\n",
            "++++++++++++++++++++++++++++++++++++---- : 90% completed\n",
            "++++++++++++++++++++++++++++++++++++---- : 99% completed\n",
            "++++++++++++++++++++++++++++++++++++++++ : 100% completed\n",
            "\n",
            "Preprocessing complete\n"
          ]
        }
      ],
      "source": [
        "print(\"Begin text preprocessing:\", end=\"\\n\\n\")\n",
        "raw_data[\"processed_text\"] = \"\"\n",
        "for i in range(raw_data.shape[0]):\n",
        "    if i % 500 == 0 and i != 0:\n",
        "        a = round(i/raw_data.shape[0]*100)\n",
        "        print(\"+\"*(a//10*4) + \"-\"*(40-(a//10*4)) + \" : \"+ str(a) + \"% completed\")\n",
        "    raw_data[\"processed_text\"][i] = preprocess_text(str(raw_data[\"Message\"][i]))\n",
        "    if i == raw_data.shape[0]-1:\n",
        "        print(\"+\"*40 + \" : \" + \"100% completed\", end=\"\\n\\n\")\n",
        "print(\"Preprocessing complete\")"
      ]
    },
    {
      "cell_type": "code",
      "execution_count": null,
      "metadata": {
        "colab": {
          "base_uri": "https://localhost:8080/"
        },
        "id": "pmR22C-WEhm8",
        "outputId": "acfd7e1d-3597-416f-96a8-9f21e366d0a3"
      },
      "outputs": [
        {
          "name": "stdout",
          "output_type": "stream",
          "text": [
            "Drive already mounted at /content/drive; to attempt to forcibly remount, call drive.mount(\"/content/drive\", force_remount=True).\n"
          ]
        }
      ],
      "source": [
        "from google.colab import drive\n",
        "drive.mount('/content/drive')"
      ]
    },
    {
      "cell_type": "code",
      "execution_count": null,
      "metadata": {
        "colab": {
          "base_uri": "https://localhost:8080/"
        },
        "id": "8GNn5xH9ElBt",
        "outputId": "046544ad-d4b0-4b7f-db92-5c39f905b14e"
      },
      "outputs": [
        {
          "name": "stdout",
          "output_type": "stream",
          "text": [
            "Initialized DVC repository.\n",
            "\n",
            "\u001b[31m+---------------------------------------------------------------------+\n",
            "\u001b[0m\u001b[31m|\u001b[0m                                                                     \u001b[31m|\u001b[0m\n",
            "\u001b[31m|\u001b[0m        DVC has enabled anonymous aggregate usage analytics.         \u001b[31m|\u001b[0m\n",
            "\u001b[31m|\u001b[0m     Read the analytics documentation (and how to opt-out) here:     \u001b[31m|\u001b[0m\n",
            "\u001b[31m|\u001b[0m             <\u001b[36mhttps://dvc.org/doc/user-guide/analytics\u001b[39m>              \u001b[31m|\u001b[0m\n",
            "\u001b[31m|\u001b[0m                                                                     \u001b[31m|\u001b[0m\n",
            "\u001b[31m+---------------------------------------------------------------------+\n",
            "\u001b[0m\n",
            "\u001b[33mWhat's next?\u001b[39m\n",
            "\u001b[33m------------\u001b[39m\n",
            "- Check out the documentation: <\u001b[36mhttps://dvc.org/doc\u001b[39m>\n",
            "- Get help and share ideas: <\u001b[36mhttps://dvc.org/chat\u001b[39m>\n",
            "- Star us on GitHub: <\u001b[36mhttps://github.com/iterative/dvc\u001b[39m>\n",
            "\u001b[0m"
          ]
        }
      ],
      "source": [
        "!dvc init -f --no-scm"
      ]
    },
    {
      "cell_type": "code",
      "execution_count": null,
      "metadata": {
        "id": "rYKMqk1YE1vs"
      },
      "outputs": [],
      "source": [
        "!mkdir -p /content/drive/MyDrive/sk_aml2_dvc_remote"
      ]
    },
    {
      "cell_type": "code",
      "execution_count": null,
      "metadata": {
        "colab": {
          "base_uri": "https://localhost:8080/"
        },
        "id": "Fo8kNZxAE51b",
        "outputId": "1464e235-3d60-4818-bbb9-8ad1469adf48"
      },
      "outputs": [
        {
          "name": "stdout",
          "output_type": "stream",
          "text": [
            "Setting 'myremote' as a default remote.\n",
            "\u001b[0m"
          ]
        }
      ],
      "source": [
        "!dvc remote add -d myremote /content/drive/MyDrive/sk_aml2_dvc_remote"
      ]
    },
    {
      "cell_type": "code",
      "execution_count": null,
      "metadata": {
        "colab": {
          "base_uri": "https://localhost:8080/"
        },
        "id": "7GUL-14kE-q-",
        "outputId": "8f19eb7e-a99b-41bb-d705-e022bb546ee7"
      },
      "outputs": [
        {
          "name": "stdout",
          "output_type": "stream",
          "text": [
            "\u001b[33mhint: Using 'master' as the name for the initial branch. This default branch name\u001b[m\n",
            "\u001b[33mhint: is subject to change. To configure the initial branch name to use in all\u001b[m\n",
            "\u001b[33mhint: of your new repositories, which will suppress this warning, call:\u001b[m\n",
            "\u001b[33mhint: \u001b[m\n",
            "\u001b[33mhint: \tgit config --global init.defaultBranch <name>\u001b[m\n",
            "\u001b[33mhint: \u001b[m\n",
            "\u001b[33mhint: Names commonly chosen instead of 'master' are 'main', 'trunk' and\u001b[m\n",
            "\u001b[33mhint: 'development'. The just-created branch can be renamed via this command:\u001b[m\n",
            "\u001b[33mhint: \u001b[m\n",
            "\u001b[33mhint: \tgit branch -m <name>\u001b[m\n",
            "Initialized empty Git repository in /content/drive/MyDrive/myproject/project/.git/\n"
          ]
        }
      ],
      "source": [
        "!git init"
      ]
    },
    {
      "cell_type": "code",
      "execution_count": null,
      "metadata": {
        "id": "ZzJap4KoE_7U"
      },
      "outputs": [],
      "source": [
        "!git config --global user.name \"SALOKYADEB\"\n",
        "!git config --global user.email \"salokya37deb@gmail.com\""
      ]
    },
    {
      "cell_type": "code",
      "execution_count": null,
      "metadata": {
        "colab": {
          "base_uri": "https://localhost:8080/"
        },
        "id": "yYI8Nj65FL-V",
        "outputId": "bdcd6918-510d-4639-9d28-2496cfd276cd"
      },
      "outputs": [
        {
          "name": "stdout",
          "output_type": "stream",
          "text": [
            "On branch master\n",
            "\n",
            "No commits yet\n",
            "\n",
            "Untracked files:\n",
            "  (use \"git add <file>...\" to include in what will be committed)\n",
            "\t\u001b[31m.dvc/\u001b[m\n",
            "\t\u001b[31m.dvcignore\u001b[m\n",
            "\t\u001b[31mraw_data.csv\u001b[m\n",
            "\t\u001b[31mraw_data.csv.dvc\u001b[m\n",
            "\t\u001b[31mtest.csv\u001b[m\n",
            "\t\u001b[31mtest.csv.dvc\u001b[m\n",
            "\t\u001b[31mtrain.csv\u001b[m\n",
            "\t\u001b[31mtrain.csv.dvc\u001b[m\n",
            "\t\u001b[31mvalidation.csv\u001b[m\n",
            "\t\u001b[31mvalidation.csv.dvc\u001b[m\n",
            "\n",
            "nothing added to commit but untracked files present (use \"git add\" to track)\n"
          ]
        }
      ],
      "source": [
        "!git status"
      ]
    },
    {
      "cell_type": "code",
      "execution_count": null,
      "metadata": {
        "colab": {
          "base_uri": "https://localhost:8080/"
        },
        "id": "J8dNSWArFOsu",
        "outputId": "114709c7-ed8f-4b9f-af18-411419618ec7"
      },
      "outputs": [
        {
          "name": "stdout",
          "output_type": "stream",
          "text": [
            "cp: cannot stat '*.txt': No such file or directory\n",
            "cp: cannot stat '*.ipynb': No such file or directory\n",
            "/content/drive/MyDrive/myproject/project/Assignments/Assignment 02 : Version Control\n",
            "[master (root-commit) d2abd46] Added files\n",
            " 4 files changed, 11152 insertions(+)\n",
            " create mode 100644 Assignments/Assignment 02 : Version Control/raw_data.csv\n",
            " create mode 100644 Assignments/Assignment 02 : Version Control/test.csv\n",
            " create mode 100644 Assignments/Assignment 02 : Version Control/train.csv\n",
            " create mode 100644 Assignments/Assignment 02 : Version Control/validation.csv\n"
          ]
        }
      ],
      "source": [
        "!mkdir -p Assignments/Assignment\\ 02\\ :\\ Version\\ Control\n",
        "!cp *.txt Assignments/Assignment\\ 02\\ :\\ Version\\ Control/\n",
        "!cp *.csv Assignments/Assignment\\ 02\\ :\\ Version\\ Control/\n",
        "!cp *.ipynb Assignments/Assignment\\ 02\\ :\\ Version\\ Control/\n",
        "%cd Assignments/Assignment\\ 02\\ :\\ Version\\ Control\n",
        "!git add .\n",
        "!git commit -m \"Added files\""
      ]
    },
    {
      "cell_type": "code",
      "execution_count": null,
      "metadata": {
        "colab": {
          "base_uri": "https://localhost:8080/"
        },
        "id": "x0qKrFxcFUk1",
        "outputId": "723fa0ba-dd08-4904-ef8f-2ad80d150505"
      },
      "outputs": [
        {
          "name": "stdout",
          "output_type": "stream",
          "text": [
            "\u001b[?25l\u001b[32m⠋\u001b[0m Checking graph\n",
            "Adding...:   0% 0/1 [00:00<?, ?file/s{'info': ''}]\n",
            "!\u001b[A\n",
            "          |0.00 [00:00,     ?file/s]\u001b[A\n",
            "Adding...:   0% 0/1 [00:00<?, ?file/s{'info': ''}]\n",
            "\u001b[31mERROR\u001b[39m: output 'SMSSpamCollection.csv' does not exist: [Errno 2] No such file or directory: '/content/drive/MyDrive/myproject/project/Assignments/Assignment 02 : Version Control/SMSSpamCollection.csv'\n",
            "\u001b[0m"
          ]
        }
      ],
      "source": [
        "!dvc add SMSSpamCollection.csv\n"
      ]
    },
    {
      "cell_type": "code",
      "execution_count": null,
      "metadata": {
        "colab": {
          "base_uri": "https://localhost:8080/"
        },
        "id": "ZxfetSmYFc5a",
        "outputId": "577d2f94-59c3-4eca-f02d-606a0399f855"
      },
      "outputs": [
        {
          "name": "stdout",
          "output_type": "stream",
          "text": [
            "Collecting          |4.00 [00:00,  146entry/s]\n",
            "Pushing\n",
            "!\u001b[A\n",
            "  0% |          |0/? [00:00<?,    ?files/s]\u001b[A\n",
            "                                           \u001b[A\n",
            "!\u001b[A\n",
            "  0% |          |0/? [00:00<?,    ?files/s]\u001b[A\n",
            "\u001b[33mWARNING\u001b[39m: Some of the cache files do not exist neither locally nor on remote. Missing cache files:\n",
            "md5: 0db81d839d8a3060cecac7ee743d7581\n",
            "md5: b8a8080c1ef30e7a500422fab7960eda\n",
            "md5: 73e2083c8a88474a82a3deaa6d2a6e2d\n",
            "md5: 0ed67d4543c2eac078df639145591ddb\n",
            "Pushing\n",
            "Everything is up to date.\n",
            "\u001b[0m"
          ]
        }
      ],
      "source": [
        "!dvc push"
      ]
    },
    {
      "cell_type": "code",
      "execution_count": null,
      "metadata": {
        "id": "PtbeXCR_Fehe"
      },
      "outputs": [],
      "source": [
        "# Breaking the dataset into 70%, 15%, 15% for train, validation and test respectively\n",
        "\n",
        "train, val_test = train_test_split(raw_data[[\"processed_text\", \"Label\"]], test_size = 0.30, random_state=42)\n",
        "val, test = train_test_split(val_test, test_size = 0.50, random_state=42)"
      ]
    },
    {
      "cell_type": "code",
      "execution_count": null,
      "metadata": {
        "id": "NJWCC_jyFnu3"
      },
      "outputs": [],
      "source": [
        "# Save splits in .csv format\n",
        "train.to_csv('train.csv', index=False)\n",
        "val.to_csv('validation.csv', index=False)\n",
        "test.to_csv('test.csv', index=False)"
      ]
    },
    {
      "cell_type": "code",
      "execution_count": null,
      "metadata": {
        "colab": {
          "base_uri": "https://localhost:8080/"
        },
        "id": "r_kpE4sbFq6Y",
        "outputId": "3cd192ac-3f8a-46d1-84b8-a1b773a81201"
      },
      "outputs": [
        {
          "name": "stdout",
          "output_type": "stream",
          "text": [
            "\u001b[?25l\u001b[32m⠋\u001b[0m Checking graph\n",
            "Adding...:   0% 0/3 [00:00<?, ?file/s{'info': ' train.csv |'}]\n",
            "!\u001b[A\n",
            "          |0.00 [00:00,     ?file/s]\u001b[A\n",
            "                                    \u001b[A\n",
            "!\u001b[A\n",
            "  0% |          |0/? [00:00<?,    ?files/s]\u001b[A\n",
            "                                           \u001b[A\n",
            "Adding train.csv to cache:   0% 0/1 [00:00<?, ?file/s]\u001b[A\n",
            "Adding train.csv to cache:   0% 0/1 [00:00<?, ?file/s{'info': ''}]\u001b[A\n",
            "                                                                  \u001b[A\n",
            "  0% 0/1 [00:00<?, ?files/s]\u001b[A\n",
            "  0% 0/1 [00:00<?, ?files/s{'info': ''}]\u001b[A\n",
            "Adding...:  33% 1/3 [00:00<00:00,  4.42file/s{'info': ' validation.csv |'}]\n",
            "!\u001b[A\n",
            "          |0.00 [00:00,     ?file/s]\u001b[A\n",
            "                                    \u001b[A\n",
            "!\u001b[A\n",
            "  0% |          |0/? [00:00<?,    ?files/s]\u001b[A\n",
            "                                           \u001b[A\n",
            "Adding validation.csv to cache:   0% 0/1 [00:00<?, ?file/s]\u001b[A\n",
            "Adding validation.csv to cache:   0% 0/1 [00:00<?, ?file/s{'info': ''}]\u001b[A\n",
            "                                                                       \u001b[A\n",
            "  0% 0/1 [00:00<?, ?files/s]\u001b[A\n",
            "  0% 0/1 [00:00<?, ?files/s{'info': ''}]\u001b[A\n",
            "Adding...:  67% 2/3 [00:00<00:00,  4.54file/s{'info': ' test.csv |'}]      \n",
            "!\u001b[A\n",
            "          |0.00 [00:00,     ?file/s]\u001b[A\n",
            "                                    \u001b[A\n",
            "!\u001b[A\n",
            "  0% |          |0/? [00:00<?,    ?files/s]\u001b[A\n",
            "                                           \u001b[A\n",
            "Adding test.csv to cache:   0% 0/1 [00:00<?, ?file/s]\u001b[A\n",
            "Adding test.csv to cache:   0% 0/1 [00:00<?, ?file/s{'info': ''}]\u001b[A\n",
            "                                                                 \u001b[A\n",
            "  0% 0/1 [00:00<?, ?files/s]\u001b[A\n",
            "  0% 0/1 [00:00<?, ?files/s{'info': ''}]\u001b[A\n",
            "Adding...: 100% 3/3 [00:00<00:00,  4.60file/s{'info': ''}]           \n",
            "\u001b[0m"
          ]
        }
      ],
      "source": [
        "!dvc add train.csv validation.csv test.csv"
      ]
    },
    {
      "cell_type": "code",
      "execution_count": null,
      "metadata": {
        "colab": {
          "base_uri": "https://localhost:8080/"
        },
        "id": "eSt6sbOeFvlJ",
        "outputId": "64b0c097-3f5d-4cea-d43d-f9f966182295"
      },
      "outputs": [
        {
          "name": "stdout",
          "output_type": "stream",
          "text": [
            "fatal: pathspec '.gitignore' did not match any files\n"
          ]
        }
      ],
      "source": [
        "!git add train.csv.dvc test.csv.dvc .gitignore validation.csv.dvc"
      ]
    },
    {
      "cell_type": "code",
      "execution_count": null,
      "metadata": {
        "colab": {
          "base_uri": "https://localhost:8080/"
        },
        "id": "yFtI2tzTF0Nr",
        "outputId": "dd000fe5-f02c-43c1-9a30-bb4ac99ed355"
      },
      "outputs": [
        {
          "name": "stdout",
          "output_type": "stream",
          "text": [
            "\u001b[0m"
          ]
        }
      ],
      "source": [
        "!dvc commit"
      ]
    },
    {
      "cell_type": "code",
      "execution_count": null,
      "metadata": {
        "colab": {
          "base_uri": "https://localhost:8080/"
        },
        "id": "FbsJQHJdF3V3",
        "outputId": "bfaeaf85-802e-45bc-8e72-1ac64641b0bd"
      },
      "outputs": [
        {
          "name": "stdout",
          "output_type": "stream",
          "text": [
            "\r!\rIf DVC froze, see `hardlink_lock` in <\u001b[36mhttps://man.dvc.org/config#core\u001b[39m>\r                                                                      \r\r!\rCollecting          |0.00 [00:00,    ?entry/s]\rCollecting          |7.00 [00:00,  150entry/s]\n",
            "\r!\rPushing\n",
            "\r!\u001b[A\n",
            "\r  0% |          |0/? [00:00<?,    ?files/s]\u001b[A\n",
            "\r                                           \u001b[A\n",
            "\r!\u001b[A\n",
            "\r  0% |          |0/? [00:00<?,    ?files/s]\u001b[A\n",
            "\r                                           \u001b[A\n",
            "Pushing to local:   0% 0/7 [00:00<?, ?file/s]\u001b[A\n",
            "Pushing to local:   0% 0/7 [00:00<?, ?file/s{'info': ''}]\u001b[A\n",
            "Pushing to local:  43% 3/7 [00:00<00:00, 28.28file/s{'info': ''}]\u001b[A\n",
            "Pushing to local: 100% 7/7 [00:00<00:00, 32.87file/s{'info': ''}]\u001b[A\n",
            "Pushing\n",
            "7 files pushed\n",
            "\u001b[0m"
          ]
        }
      ],
      "source": [
        "!dvc push"
      ]
    },
    {
      "cell_type": "code",
      "execution_count": null,
      "metadata": {
        "id": "qt2kO178F6J5"
      },
      "outputs": [],
      "source": [
        "train_data, test_data = train_test_split(raw_data, test_size=0.3, random_state=100)\n",
        "val_data, test_data = train_test_split(test_data, test_size=0.5, random_state=100)"
      ]
    },
    {
      "cell_type": "code",
      "execution_count": null,
      "metadata": {
        "id": "ZP8vgMq4F7Xp"
      },
      "outputs": [],
      "source": [
        "train_data.to_csv('train.csv', index=False)\n",
        "val_data.to_csv('validation.csv', index=False)\n",
        "test_data.to_csv('test.csv', index=False)\n"
      ]
    },
    {
      "cell_type": "code",
      "execution_count": null,
      "metadata": {
        "colab": {
          "base_uri": "https://localhost:8080/"
        },
        "id": "duCU_BkQF-qq",
        "outputId": "30d81f77-7b6b-471c-e6f2-6367942695ee"
      },
      "outputs": [
        {
          "name": "stdout",
          "output_type": "stream",
          "text": [
            "\u001b[?25l\u001b[32m⠋\u001b[0m Checking graph\n",
            "Adding...:   0% 0/3 [00:00<?, ?file/s{'info': ' train.csv |'}]\n",
            "!\u001b[A\n",
            "          |0.00 [00:00,     ?file/s]\u001b[A\n",
            "                                    \u001b[A\n",
            "!\u001b[A\n",
            "  0% |          |0/? [00:00<?,    ?files/s]\u001b[A\n",
            "                                           \u001b[A\n",
            "Adding train.csv to cache:   0% 0/1 [00:00<?, ?file/s]\u001b[A\n",
            "Adding train.csv to cache:   0% 0/1 [00:00<?, ?file/s{'info': ''}]\u001b[A\n",
            "                                                                  \u001b[A\n",
            "  0% 0/1 [00:00<?, ?files/s]\u001b[A\n",
            "  0% 0/1 [00:00<?, ?files/s{'info': ''}]\u001b[A\n",
            "Adding...:  33% 1/3 [00:00<00:00,  4.41file/s{'info': ' validation.csv |'}]\n",
            "!\u001b[A\n",
            "          |0.00 [00:00,     ?file/s]\u001b[A\n",
            "                                    \u001b[A\n",
            "!\u001b[A\n",
            "  0% |          |0/? [00:00<?,    ?files/s]\u001b[A\n",
            "                                           \u001b[A\n",
            "Adding validation.csv to cache:   0% 0/1 [00:00<?, ?file/s]\u001b[A\n",
            "Adding validation.csv to cache:   0% 0/1 [00:00<?, ?file/s{'info': ''}]\u001b[A\n",
            "                                                                       \u001b[A\n",
            "  0% 0/1 [00:00<?, ?files/s]\u001b[A\n",
            "  0% 0/1 [00:00<?, ?files/s{'info': ''}]\u001b[A\n",
            "Adding...:  67% 2/3 [00:00<00:00,  4.64file/s{'info': ' test.csv |'}]      \n",
            "!\u001b[A\n",
            "          |0.00 [00:00,     ?file/s]\u001b[A\n",
            "                                    \u001b[A\n",
            "!\u001b[A\n",
            "  0% |          |0/? [00:00<?,    ?files/s]\u001b[A\n",
            "                                           \u001b[A\n",
            "Adding test.csv to cache:   0% 0/1 [00:00<?, ?file/s]\u001b[A\n",
            "Adding test.csv to cache:   0% 0/1 [00:00<?, ?file/s{'info': ''}]\u001b[A\n",
            "                                                                 \u001b[A\n",
            "  0% 0/1 [00:00<?, ?files/s]\u001b[A\n",
            "  0% 0/1 [00:00<?, ?files/s{'info': ''}]\u001b[A\n",
            "Adding...: 100% 3/3 [00:00<00:00,  4.71file/s{'info': ''}]           \n",
            "\u001b[0m"
          ]
        }
      ],
      "source": [
        "!dvc add train.csv validation.csv test.csv"
      ]
    },
    {
      "cell_type": "code",
      "execution_count": null,
      "metadata": {
        "colab": {
          "base_uri": "https://localhost:8080/"
        },
        "id": "F1BR9mlGGBl1",
        "outputId": "385bcac8-4178-4b46-a2a9-36c21e5f8c64"
      },
      "outputs": [
        {
          "name": "stdout",
          "output_type": "stream",
          "text": [
            "\u001b[0m"
          ]
        }
      ],
      "source": [
        "!dvc commit"
      ]
    },
    {
      "cell_type": "code",
      "execution_count": null,
      "metadata": {
        "colab": {
          "base_uri": "https://localhost:8080/"
        },
        "id": "99rgXOn8GELy",
        "outputId": "e1eda27e-4f35-420e-c51d-eae23624b05e"
      },
      "outputs": [
        {
          "name": "stdout",
          "output_type": "stream",
          "text": [
            "Collecting          |7.00 [00:00,  165entry/s]\n",
            "Pushing\n",
            "!\u001b[A\n",
            "  0% |          |0/? [00:00<?,    ?files/s]\u001b[A\n",
            "                                           \u001b[A\n",
            "!\u001b[A\n",
            "  0% |          |0/? [00:00<?,    ?files/s]\u001b[A\n",
            "                                           \u001b[A\n",
            "Pushing to local:   0% 0/3 [00:00<?, ?file/s]\u001b[A\n",
            "Pushing to local:   0% 0/3 [00:00<?, ?file/s{'info': ''}]\u001b[A\n",
            "Pushing\n",
            "3 files pushed\n",
            "\u001b[0m"
          ]
        }
      ],
      "source": [
        "!dvc push"
      ]
    },
    {
      "cell_type": "code",
      "execution_count": null,
      "metadata": {
        "colab": {
          "base_uri": "https://localhost:8080/"
        },
        "id": "DAy1LdkAGI0O",
        "outputId": "b6dafb03-d600-4da3-a6dc-eb8e7059e04e"
      },
      "outputs": [
        {
          "name": "stdout",
          "output_type": "stream",
          "text": [
            "Building workspace index          |5.00 [00:00,  120entry/s]\n",
            "Comparing indexes          |6.00 [00:00, 1.59kentry/s]\n",
            "Applying changes          |0.00 [00:00,     ?file/s]\n",
            "\u001b[0m"
          ]
        }
      ],
      "source": [
        "!dvc checkout train.csv.dvc validation.csv.dvc test.csv.dvc"
      ]
    },
    {
      "cell_type": "code",
      "execution_count": null,
      "metadata": {
        "id": "XG4_B1mzGKP_"
      },
      "outputs": [],
      "source": [
        "train = pd.read_csv(\"train.csv\")\n",
        "test = pd.read_csv(\"test.csv\")\n",
        "val = pd.read_csv(\"validation.csv\")"
      ]
    },
    {
      "cell_type": "code",
      "execution_count": null,
      "metadata": {
        "id": "sGFh9LrqGOeo"
      },
      "outputs": [],
      "source": [
        "test_y = test[\"Label\"]\n",
        "train_y = train[\"Label\"]\n",
        "val_y = val[\"Label\"]\n"
      ]
    },
    {
      "cell_type": "code",
      "execution_count": null,
      "metadata": {
        "colab": {
          "base_uri": "https://localhost:8080/"
        },
        "id": "LXravP8ZGPpB",
        "outputId": "fbea74f3-a767-4e07-8536-a1b2a90e35fe"
      },
      "outputs": [
        {
          "name": "stdout",
          "output_type": "stream",
          "text": [
            "Training data:\n",
            "\n",
            "Number of 0 = 3374\n",
            "Number of 1 = 527\n",
            "\n",
            "\n",
            "\n",
            "Validation data:\n",
            "\n",
            "Number of 0 = 732\n",
            "Number of 1 = 104\n",
            "\n",
            "\n",
            "\n",
            "Testing data:\n",
            "\n",
            "Number of 0 = 721\n",
            "Number of 1 = 116\n"
          ]
        }
      ],
      "source": [
        "print(\"Training data:\", end = \"\\n\\n\")\n",
        "print(\"Number of 0 =\", np.sum(train_y == 'ham'))\n",
        "print(\"Number of 1 =\", np.sum(train_y == 'spam'), end = \"\\n\\n\\n\\n\")\n",
        "print(\"Validation data:\", end = \"\\n\\n\")\n",
        "print(\"Number of 0 =\", np.sum(val_y == 'ham'))\n",
        "print(\"Number of 1 =\", np.sum(val_y == 'spam'), end = \"\\n\\n\\n\\n\")\n",
        "print(\"Testing data:\", end = \"\\n\\n\")\n",
        "print(\"Number of 0 =\", np.sum(test_y == 'ham'))\n",
        "print(\"Number of 1 =\", np.sum(test_y == 'spam'))\n"
      ]
    },
    {
      "cell_type": "code",
      "execution_count": null,
      "metadata": {
        "id": "0a38db23-394d-48a1-95ee-f06d1633b53c",
        "outputId": "aa709c57-2ca0-492f-d379-87b06e9b4f43"
      },
      "outputs": [
        {
          "name": "stderr",
          "output_type": "stream",
          "text": [
            "Note: switching to 'd56e477102e984884aa91d89f1245a0079e7e796'.\n",
            "\n",
            "You are in 'detached HEAD' state. You can look around, make experimental\n",
            "changes and commit them, and you can discard any commits you make in this\n",
            "state without impacting any branches by switching back to a branch.\n",
            "\n",
            "If you want to create a new branch to retain commits you create, you may\n",
            "do so (now or later) by using -c with the switch command. Example:\n",
            "\n",
            "  git switch -c <new-branch-name>\n",
            "\n",
            "Or undo this operation with:\n",
            "\n",
            "  git switch -\n",
            "\n",
            "Turn off this advice by setting config variable advice.detachedHead to false\n",
            "\n",
            "HEAD is now at d56e477 Version 2 split\n"
          ]
        }
      ],
      "source": [
        "!git checkout d56e477102e984884aa91d89f1245a0079e7e796"
      ]
    },
    {
      "cell_type": "code",
      "execution_count": null,
      "metadata": {
        "colab": {
          "base_uri": "https://localhost:8080/"
        },
        "id": "qNu6eRpM0I8A",
        "outputId": "8005d5f7-ce0e-495a-df62-87606c0b798c"
      },
      "outputs": [
        {
          "name": "stdout",
          "output_type": "stream",
          "text": [
            "Building workspace index          |14.0 [00:00,  506entry/s]\n",
            "Comparing indexes          |15.0 [00:00, 1.70kentry/s]\n",
            "Applying changes          |0.00 [00:00,     ?file/s]\n",
            "\u001b[0m"
          ]
        }
      ],
      "source": [
        "!dvc checkout"
      ]
    },
    {
      "cell_type": "code",
      "execution_count": null,
      "metadata": {
        "id": "45973c43-eb63-4ef8-8b71-9b2d212692a0"
      },
      "outputs": [],
      "source": [
        "train = pd.read_csv(\"train.csv\")\n",
        "test = pd.read_csv(\"test.csv\")\n",
        "val = pd.read_csv(\"validation.csv\")"
      ]
    },
    {
      "cell_type": "code",
      "execution_count": null,
      "metadata": {
        "id": "fdbd4777-fe53-468d-a582-16a3674ffd64"
      },
      "outputs": [],
      "source": [
        "test_y = test[\"Label\"]\n",
        "train_y = train[\"Label\"]\n",
        "val_y = val[\"Label\"]"
      ]
    },
    {
      "cell_type": "code",
      "execution_count": null,
      "metadata": {
        "id": "4cb57274-9267-4849-9e3c-4b7f833caf75",
        "outputId": "e4d9a91c-60ef-444e-8068-e3550ba8f6ff"
      },
      "outputs": [
        {
          "name": "stdout",
          "output_type": "stream",
          "text": [
            "Training data:\n",
            "\n",
            "Number of 0 = 3045\n",
            "Number of 1 = 964\n",
            "\n",
            "\n",
            "\n",
            "Validation data:\n",
            "\n",
            "Number of 0 = 661\n",
            "Number of 1 = 198\n",
            "\n",
            "\n",
            "\n",
            "Testing data:\n",
            "\n",
            "Number of 0 = 654\n",
            "Number of 1 = 206\n"
          ]
        }
      ],
      "source": [
        "print(\"Training data:\", end = \"\\n\\n\")\n",
        "print(\"Number of 0 =\", np.sum(train_y == 'ham'))\n",
        "print(\"Number of 1 =\", np.sum(train_y == 'spam'), end = \"\\n\\n\\n\\n\")\n",
        "print(\"Validation data:\", end = \"\\n\\n\")\n",
        "print(\"Number of 0 =\", np.sum(val_y == 'ham'))\n",
        "print(\"Number of 1 =\", np.sum(val_y == 'spam'), end = \"\\n\\n\\n\\n\")\n",
        "print(\"Testing data:\", end = \"\\n\\n\")\n",
        "print(\"Number of 0 =\", np.sum(test_y == 'ham'))\n",
        "print(\"Number of 1 =\", np.sum(test_y == 'spam'))"
      ]
    },
    {
      "cell_type": "code",
      "execution_count": null,
      "metadata": {
        "id": "6f8152d1-e679-4002-9540-867db53bcb5b",
        "outputId": "6af57fb5-45fe-4e8c-f8a4-f05043e51521"
      },
      "outputs": [
        {
          "name": "stdout",
          "output_type": "stream",
          "text": [
            "3 files pushed\n"
          ]
        }
      ],
      "source": [
        "!dvc push"
      ]
    }
  ],
  "metadata": {
    "colab": {
      "provenance": []
    },
    "kernelspec": {
      "display_name": "Python 3",
      "name": "python3"
    },
    "language_info": {
      "name": "python"
    }
  },
  "nbformat": 4,
  "nbformat_minor": 0
}
